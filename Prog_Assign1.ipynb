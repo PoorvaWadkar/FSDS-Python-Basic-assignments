{
 "cells": [
  {
   "cell_type": "code",
   "execution_count": null,
   "id": "4191da1e-5ff8-4784-8cdd-8be4720fcde2",
   "metadata": {},
   "outputs": [],
   "source": [
    "1. Write a Python program to print \"Hello Python\"?\n",
    "2. Write a Python program to do arithmetical operations addition and division.?\n",
    "3. Write a Python program to find the area of a triangle?\n",
    "4. Write a Python program to swap two variables?\n",
    "5. Write a Python program to generate a random number?"
   ]
  },
  {
   "cell_type": "code",
   "execution_count": 1,
   "id": "bd739cfa-5f75-46c2-b16f-86165e87ff42",
   "metadata": {},
   "outputs": [],
   "source": [
    "#1. Write a Python program to print \"Hello Python\"?"
   ]
  },
  {
   "cell_type": "code",
   "execution_count": 2,
   "id": "34f29fd5-7553-451a-bafc-74f398dfce01",
   "metadata": {},
   "outputs": [
    {
     "name": "stdout",
     "output_type": "stream",
     "text": [
      "Hello Python\n"
     ]
    }
   ],
   "source": [
    "string = \"Hello Python\"\n",
    "print(string)"
   ]
  },
  {
   "cell_type": "code",
   "execution_count": 3,
   "id": "a14f309a-98d5-4bd3-b4db-4cb7eff4bdd3",
   "metadata": {},
   "outputs": [],
   "source": [
    "#2. Write a Python program to do arithmetical operations addition and division.?"
   ]
  },
  {
   "cell_type": "code",
   "execution_count": 13,
   "id": "572c0fd5-98bc-48b4-8717-aae3ad265011",
   "metadata": {},
   "outputs": [
    {
     "name": "stdin",
     "output_type": "stream",
     "text": [
      "Enter First number : 5\n",
      "Enter Second number : 6\n"
     ]
    },
    {
     "name": "stdout",
     "output_type": "stream",
     "text": [
      "Addition : 11\n",
      "Division : 0.8333333333333334\n"
     ]
    }
   ],
   "source": [
    "num1 = int(input(\"Enter First number :\"))\n",
    "num2 = int(input(\"Enter Second number :\"))\n",
    "add = num1+num2\n",
    "print(\"Addition :\", add) \n",
    "if num2 != 0:\n",
    "    div = num1/num2\n",
    "    print(\"Division :\", div) \n",
    "else:\n",
    "    print(\"You are dividing numerator with zero, which is invalid, plz enter a valid number\")"
   ]
  },
  {
   "cell_type": "code",
   "execution_count": 9,
   "id": "daddd295-b539-440d-a9ac-b9675a35f307",
   "metadata": {},
   "outputs": [
    {
     "name": "stdin",
     "output_type": "stream",
     "text": [
      "Enter First number : 5\n",
      "Enter Second number : 0\n"
     ]
    },
    {
     "name": "stdout",
     "output_type": "stream",
     "text": [
      "Addition : 5\n",
      "You are dividing numerator with zero, which is invalid, plz enter a valid number\n"
     ]
    }
   ],
   "source": [
    "num1 = int(input(\"Enter First number :\"))\n",
    "num2 = int(input(\"Enter Second number :\"))\n",
    "add = num1+num2\n",
    "print(\"Addition :\", add) \n",
    "if num2 != 0:\n",
    "    div = num1/num2\n",
    "    print(\"Division :\", div) \n",
    "else:\n",
    "    print(\"You are dividing numerator with zero, which is invalid, plz enter a valid number\")"
   ]
  },
  {
   "cell_type": "code",
   "execution_count": 11,
   "id": "2972218d-2252-4198-8542-4138aabd1546",
   "metadata": {},
   "outputs": [],
   "source": [
    "#3. Write a Python program to find the area of a triangle?"
   ]
  },
  {
   "cell_type": "code",
   "execution_count": 20,
   "id": "11f2985c-c9d8-4826-9d47-de4333c3d8c6",
   "metadata": {},
   "outputs": [
    {
     "name": "stdin",
     "output_type": "stream",
     "text": [
      "Enter base of triangle:  5\n",
      "Enter height of triangle: 4\n"
     ]
    },
    {
     "name": "stdout",
     "output_type": "stream",
     "text": [
      "Area of triangle is : 10.0\n"
     ]
    }
   ],
   "source": [
    "b= int(input(\"Enter base of triangle: \"))\n",
    "h = int(input(\"Enter height of triangle:\"))\n",
    "area_of_triangle = 0.5*b*h\n",
    "print(\"Area of triangle is :\",area_of_triangle)"
   ]
  },
  {
   "cell_type": "code",
   "execution_count": 21,
   "id": "56671ce0-073c-4020-9cec-36d06af31966",
   "metadata": {},
   "outputs": [],
   "source": [
    "#4. Write a Python program to swap two variables?"
   ]
  },
  {
   "cell_type": "code",
   "execution_count": 22,
   "id": "653ab992-0249-4c9b-a1d3-6781b4d62f5b",
   "metadata": {},
   "outputs": [
    {
     "name": "stdout",
     "output_type": "stream",
     "text": [
      "Value of a before swapping : 5\n",
      "Value of b before swapping : 6\n",
      "Value of a after swapping : 6\n",
      "Value of b after swapping : 5\n"
     ]
    }
   ],
   "source": [
    "a = 5\n",
    "b = 6\n",
    "temp = 0\n",
    "print(\"Value of a before swapping :\",a)\n",
    "print(\"Value of b before swapping :\",b)\n",
    "\n",
    "temp = a\n",
    "a = b\n",
    "b = temp\n",
    "print(\"Value of a after swapping :\",a)\n",
    "print(\"Value of b after swapping :\",b)"
   ]
  },
  {
   "cell_type": "code",
   "execution_count": 23,
   "id": "8d405e03-3e0a-4e8f-9115-540c1a3c4ab5",
   "metadata": {},
   "outputs": [],
   "source": [
    "#5. Write a Python program to generate a random number?"
   ]
  },
  {
   "cell_type": "code",
   "execution_count": 26,
   "id": "d4983848-ea7a-417a-acc0-493da781bb5d",
   "metadata": {},
   "outputs": [
    {
     "name": "stdout",
     "output_type": "stream",
     "text": [
      "0.001450642506206079\n"
     ]
    }
   ],
   "source": [
    "#Generating a Single Random Number\n",
    "import random\n",
    "n = random.random()\n",
    "print(n)"
   ]
  },
  {
   "cell_type": "code",
   "execution_count": null,
   "id": "97812a8c-acdc-46ff-9664-91311b327c07",
   "metadata": {},
   "outputs": [],
   "source": [
    "#Generating Number in a Range"
   ]
  },
  {
   "cell_type": "code",
   "execution_count": 33,
   "id": "b2fd29fe-b960-4f47-a767-44fcb6edb8ec",
   "metadata": {},
   "outputs": [
    {
     "name": "stdout",
     "output_type": "stream",
     "text": [
      "5\n"
     ]
    }
   ],
   "source": [
    "n = random.randint(0,20)\n",
    "print(n)"
   ]
  },
  {
   "cell_type": "code",
   "execution_count": null,
   "id": "1f28c77b-e75d-4917-b21b-4878b459fe7c",
   "metadata": {},
   "outputs": [],
   "source": []
  }
 ],
 "metadata": {
  "kernelspec": {
   "display_name": "Python 3 (ipykernel)",
   "language": "python",
   "name": "python3"
  },
  "language_info": {
   "codemirror_mode": {
    "name": "ipython",
    "version": 3
   },
   "file_extension": ".py",
   "mimetype": "text/x-python",
   "name": "python",
   "nbconvert_exporter": "python",
   "pygments_lexer": "ipython3",
   "version": "3.10.6"
  }
 },
 "nbformat": 4,
 "nbformat_minor": 5
}

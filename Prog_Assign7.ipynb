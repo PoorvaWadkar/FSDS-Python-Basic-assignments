{
 "cells": [
  {
   "cell_type": "code",
   "execution_count": 1,
   "id": "7363795b-36cf-430e-87e5-d7b73363b7bd",
   "metadata": {},
   "outputs": [],
   "source": [
    "# 1. Write a Python Program to find sum of array?\n",
    "# 2. Write a Python Program to find largest element in an array?\n",
    "# 3. Write a Python Program for array rotation?\n",
    "# 4. Write a Python Program to Split the array and add the first part to the end?\n",
    "# 5. Write a Python Program to check if given array is Monotonic?"
   ]
  },
  {
   "cell_type": "code",
   "execution_count": 1,
   "id": "c0442c8a-82d9-4f12-91dd-c41a65699a7b",
   "metadata": {},
   "outputs": [],
   "source": [
    "# 1. Write a Python Program to find sum of array?"
   ]
  },
  {
   "cell_type": "code",
   "execution_count": 2,
   "id": "1cc619f0-e229-4b6f-97c2-6ad0b04230e0",
   "metadata": {},
   "outputs": [
    {
     "name": "stdout",
     "output_type": "stream",
     "text": [
      "15\n"
     ]
    }
   ],
   "source": [
    "a=[1,2,3,4,5]\n",
    "sum=0\n",
    "for i in a:\n",
    "    sum=sum+i\n",
    "print(sum)"
   ]
  },
  {
   "cell_type": "code",
   "execution_count": 3,
   "id": "e976a83f-9cdf-424f-867d-f8b41fe444fe",
   "metadata": {},
   "outputs": [],
   "source": [
    "# 2. Write a Python Program to find largest element in an array?"
   ]
  },
  {
   "cell_type": "code",
   "execution_count": 10,
   "id": "fafa4fea-b9de-4cf9-a479-75e3e9eaf1d2",
   "metadata": {},
   "outputs": [
    {
     "name": "stdout",
     "output_type": "stream",
     "text": [
      "55\n"
     ]
    }
   ],
   "source": [
    "a=[11,2,30,4,55]\n",
    "max=a[0]\n",
    "for i in range(1,len(a)):\n",
    "    if a[i]>max:\n",
    "        max=a[i]\n",
    "print(max)"
   ]
  },
  {
   "cell_type": "code",
   "execution_count": 12,
   "id": "e049df06-a06c-4770-a1e4-007b670d1fe6",
   "metadata": {},
   "outputs": [],
   "source": [
    "# 3. Write a Python Program for array rotation?"
   ]
  },
  {
   "cell_type": "code",
   "execution_count": 62,
   "id": "7aa9edbf-08e6-4b4a-84aa-786c781e727a",
   "metadata": {},
   "outputs": [
    {
     "name": "stdout",
     "output_type": "stream",
     "text": [
      "[1, 2, 3, 4, 5, 6]\n",
      "[3, 4, 5, 6]\n",
      "[3, 4, 5, 6, 1, 2]\n"
     ]
    }
   ],
   "source": [
    "a=[1, 2, 3, 4, 5, 6]\n",
    "print(a)\n",
    "d=2\n",
    "temp=[]\n",
    "for i in range(d,len(a)):\n",
    "    temp.append(a[i])\n",
    "print(temp)\n",
    "\n",
    "for i in range(0,d):\n",
    "    temp.append(a[i])\n",
    "a=temp.copy\n",
    "print(temp)"
   ]
  },
  {
   "cell_type": "code",
   "execution_count": 13,
   "id": "ba3368d0-2fb2-4016-8f3f-011a21c2a6de",
   "metadata": {},
   "outputs": [],
   "source": [
    "# 4. Write a Python Program to Split the array and add the first part to the end?"
   ]
  },
  {
   "cell_type": "code",
   "execution_count": 35,
   "id": "fafcc88a-a802-4054-9610-480b753fce01",
   "metadata": {},
   "outputs": [
    {
     "name": "stdout",
     "output_type": "stream",
     "text": [
      "a : [1, 2, 3, 4, 5, 6, 7, 8, 9, 10]\n",
      "10\n",
      "b : [1, 2, 3, 4, 5]\n",
      "c : [6, 7, 8, 9, 10]\n",
      "[6, 7, 8, 9, 10, 1, 2, 3, 4, 5]\n"
     ]
    }
   ],
   "source": [
    "a=[1,2,3,4,5,6,7,8,9,10]\n",
    "print(\"a :\",a)  \n",
    "n=len(a)\n",
    "print(n)\n",
    "b=[]\n",
    "for i in range(n//2):\n",
    "    b.append(a[i])\n",
    "print(\"b :\",b)    \n",
    "c=[] \n",
    "for i in range(n//2,n):\n",
    "    c.append(a[i])\n",
    "print(\"c :\",c)\n",
    "print(c+b)"
   ]
  },
  {
   "cell_type": "code",
   "execution_count": 36,
   "id": "1cd4f983-df82-4050-b24c-e80dd2adff49",
   "metadata": {},
   "outputs": [
    {
     "name": "stdout",
     "output_type": "stream",
     "text": [
      "a : [1, 2, 3, 4, 5, 6, 7, 8, 9]\n",
      "9\n",
      "b : [1, 2, 3, 4]\n",
      "c : [5, 6, 7, 8, 9]\n",
      "[5, 6, 7, 8, 9, 1, 2, 3, 4]\n"
     ]
    }
   ],
   "source": [
    "a=[1,2,3,4,5,6,7,8,9]\n",
    "print(\"a :\",a)  \n",
    "n=len(a)\n",
    "print(n)\n",
    "b=[]\n",
    "for i in range(n//2):\n",
    "    b.append(a[i])\n",
    "print(\"b :\",b)    \n",
    "c=[] \n",
    "for i in range(n//2,n):\n",
    "    c.append(a[i])\n",
    "print(\"c :\",c)\n",
    "print(c+b)"
   ]
  },
  {
   "cell_type": "code",
   "execution_count": 37,
   "id": "e05a0c9b-973a-409f-8cae-c568d113ffaa",
   "metadata": {},
   "outputs": [],
   "source": [
    "# 5. Write a Python Program to check if given array is Monotonic?"
   ]
  },
  {
   "cell_type": "code",
   "execution_count": 47,
   "id": "1a3a19fa-87d7-4949-807a-45990d99b086",
   "metadata": {},
   "outputs": [
    {
     "name": "stdout",
     "output_type": "stream",
     "text": [
      "[2, 3, 4, 5, 6]\n",
      "[6, 5, 4, 3, 2]\n",
      "True\n"
     ]
    }
   ],
   "source": [
    "A = [6,5,4,3,2]\n",
    "x, y = [], []\n",
    "x.extend(A)\n",
    "y.extend(A)\n",
    "x.sort()\n",
    "y.sort(reverse=True)\n",
    "print(x)\n",
    "print(y)\n",
    "if(x == A or y == A):\n",
    "    print(True)\n",
    "else:\n",
    "    print(False)"
   ]
  },
  {
   "cell_type": "code",
   "execution_count": 46,
   "id": "f4fa699f-6933-4e6b-b259-3a82f76a30b1",
   "metadata": {},
   "outputs": [
    {
     "name": "stdout",
     "output_type": "stream",
     "text": [
      "[0, 1, 2, 3, 6, 7]\n",
      "[7, 6, 3, 2, 1, 0]\n",
      "False\n"
     ]
    }
   ],
   "source": [
    "A = [1,2,6,7,3,0]\n",
    "x, y = [], []\n",
    "x.extend(A)\n",
    "y.extend(A)\n",
    "x.sort()\n",
    "y.sort(reverse=True)\n",
    "print(x)\n",
    "print(y)\n",
    "if(x == A or y == A):\n",
    "    print(True)\n",
    "else:\n",
    "    print(False)"
   ]
  },
  {
   "cell_type": "code",
   "execution_count": null,
   "id": "c35d3b96-9476-4f72-a8af-d8d6082634f6",
   "metadata": {},
   "outputs": [],
   "source": []
  }
 ],
 "metadata": {
  "kernelspec": {
   "display_name": "Python 3 (ipykernel)",
   "language": "python",
   "name": "python3"
  },
  "language_info": {
   "codemirror_mode": {
    "name": "ipython",
    "version": 3
   },
   "file_extension": ".py",
   "mimetype": "text/x-python",
   "name": "python",
   "nbconvert_exporter": "python",
   "pygments_lexer": "ipython3",
   "version": "3.10.6"
  }
 },
 "nbformat": 4,
 "nbformat_minor": 5
}

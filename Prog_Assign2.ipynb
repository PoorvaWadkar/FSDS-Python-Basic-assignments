{
 "cells": [
  {
   "cell_type": "code",
   "execution_count": null,
   "id": "007c7408-9365-431e-b8d0-b205284c87d2",
   "metadata": {},
   "outputs": [],
   "source": [
    "1. Write a Python program to convert kilometers to miles?\n",
    "2. Write a Python program to convert Celsius to Fahrenheit?\n",
    "3. Write a Python program to display calendar?\n",
    "4. Write a Python program to solve quadratic equation?\n",
    "5. Write a Python program to swap two variables without temp variable?"
   ]
  },
  {
   "cell_type": "code",
   "execution_count": 2,
   "id": "39c20d78-d3b1-4329-831a-b5f85050d788",
   "metadata": {},
   "outputs": [],
   "source": [
    "#1. Write a Python program to convert kilometers to miles?"
   ]
  },
  {
   "cell_type": "code",
   "execution_count": 50,
   "id": "f8844065-230c-4e19-bcf6-f5cb0eb7f1ff",
   "metadata": {},
   "outputs": [
    {
     "name": "stdin",
     "output_type": "stream",
     "text": [
      "Enter the kilometer:  15\n"
     ]
    },
    {
     "name": "stdout",
     "output_type": "stream",
     "text": [
      "15 kilometers is equal to 9.32056785 miles\n"
     ]
    }
   ],
   "source": [
    "# 1 kilometer = 0.62137119 miles\n",
    "km = int(input(\"Enter the kilometer: \"))\n",
    "miles = km * 0.62137119\n",
    "print(\"{} kilometers is equal to {} miles\".format(km,miles))"
   ]
  },
  {
   "cell_type": "code",
   "execution_count": 53,
   "id": "c36f95b4-8e51-4809-b5d1-75b1546842da",
   "metadata": {},
   "outputs": [
    {
     "name": "stdin",
     "output_type": "stream",
     "text": [
      "Enter the Celsius:  4.44\n"
     ]
    },
    {
     "name": "stdout",
     "output_type": "stream",
     "text": [
      "4.44 Celsius is equal to 39.992 Fahrenheit\n"
     ]
    }
   ],
   "source": [
    "# 2. Write a Python program to convert Celsius to Fahrenheit?\n",
    "C = float(input(\"Enter the Celsius: \"))\n",
    "F = (C*9/5) + 32\n",
    "print(\"{} Celsius is equal to {} Fahrenheit\".format(C,F))"
   ]
  },
  {
   "cell_type": "code",
   "execution_count": 56,
   "id": "0ff4d86e-556b-46f3-bf16-cb62467a25ec",
   "metadata": {},
   "outputs": [
    {
     "name": "stdin",
     "output_type": "stream",
     "text": [
      "Enter the Celsius:  37\n"
     ]
    },
    {
     "name": "stdout",
     "output_type": "stream",
     "text": [
      "37.0 Celsius is equal to 98.6 Fahrenheit\n"
     ]
    }
   ],
   "source": [
    "C = float(input(\"Enter the Celsius: \"))\n",
    "F = (C*9/5) + 32\n",
    "print(\"{} Celsius is equal to {} Fahrenheit\".format(C,F))"
   ]
  },
  {
   "cell_type": "code",
   "execution_count": 29,
   "id": "b4159b47-1219-463d-be23-b71caf13b339",
   "metadata": {},
   "outputs": [],
   "source": [
    "# 3. Write a Python program to display calendar?"
   ]
  },
  {
   "cell_type": "code",
   "execution_count": 31,
   "id": "e3467746-379f-479e-a2a3-1ac9830d8343",
   "metadata": {},
   "outputs": [
    {
     "name": "stdin",
     "output_type": "stream",
     "text": [
      "Enter year:  2023\n",
      "Enter month:  2\n"
     ]
    },
    {
     "name": "stdout",
     "output_type": "stream",
     "text": [
      "   February 2023\n",
      "Mo Tu We Th Fr Sa Su\n",
      "       1  2  3  4  5\n",
      " 6  7  8  9 10 11 12\n",
      "13 14 15 16 17 18 19\n",
      "20 21 22 23 24 25 26\n",
      "27 28\n",
      "\n"
     ]
    }
   ],
   "source": [
    "# Program to display calendar of the given month and year\n",
    "import calendar\n",
    "\n",
    "yy = int(input(\"Enter year: \"))\n",
    "mm = int(input(\"Enter month: \"))\n",
    "\n",
    "print(calendar.month(yy, mm))"
   ]
  },
  {
   "cell_type": "code",
   "execution_count": 32,
   "id": "2f269e14-7ac0-4249-a3e5-463894ac0d9e",
   "metadata": {},
   "outputs": [],
   "source": [
    "# 4. Write a Python program to solve quadratic equation?"
   ]
  },
  {
   "cell_type": "code",
   "execution_count": 43,
   "id": "99297c4e-8247-4705-a902-c03a3a47eb28",
   "metadata": {},
   "outputs": [
    {
     "name": "stdin",
     "output_type": "stream",
     "text": [
      "Enter value of a :  1\n",
      "Enter value of b :  5\n",
      "Enter value of c :  6\n"
     ]
    },
    {
     "name": "stdout",
     "output_type": "stream",
     "text": [
      "The roots are :(-3+0j) and (-2+0j)\n"
     ]
    }
   ],
   "source": [
    "#Quadratic equation ax**2 + bx + c = 0\n",
    "# import complex math module\n",
    "import cmath\n",
    "a=int(input(\"Enter value of a : \"))\n",
    "b=int(input(\"Enter value of b : \"))\n",
    "c=int(input(\"Enter value of c : \"))\n",
    "\n",
    "# calculate the discriminant\n",
    "dis = (b**2) - (4 * a*c)\n",
    "\n",
    "root1 = (-b-cmath.sqrt(dis))/(2 * a)\n",
    "root2 = (-b + cmath.sqrt(dis))/(2 * a)\n",
    "\n",
    "print('The roots are :{} and {}'.format(root1,root2))"
   ]
  },
  {
   "cell_type": "code",
   "execution_count": 45,
   "id": "0217bd7f-cd6b-4555-8eda-76f9ded5b340",
   "metadata": {},
   "outputs": [],
   "source": [
    "#5. Write a Python program to swap two variables without temp variable?"
   ]
  },
  {
   "cell_type": "code",
   "execution_count": 49,
   "id": "18f8a4ab-788b-4340-9875-889ba3cfec75",
   "metadata": {},
   "outputs": [
    {
     "name": "stdin",
     "output_type": "stream",
     "text": [
      "Enter first number:  55\n",
      "Enter second number:  22\n"
     ]
    },
    {
     "name": "stdout",
     "output_type": "stream",
     "text": [
      "first number before swapping: 55\n",
      "second number before swapping: 22\n",
      "first number after swapping: 22\n",
      "second number after swapping: 55\n"
     ]
    }
   ],
   "source": [
    "a = int(input(\"Enter first number: \"))\n",
    "b = int(input(\"Enter second number: \"))\n",
    "\n",
    "print(\"first number before swapping: {}\".format(a))\n",
    "print(\"second number before swapping: {}\".format(b))\n",
    "a,b = b,a\n",
    "\n",
    "print(\"first number after swapping: {}\".format(a))\n",
    "print(\"second number after swapping: {}\".format(b))"
   ]
  },
  {
   "cell_type": "code",
   "execution_count": null,
   "id": "4388882d-7f58-4180-b6be-2288a9917c11",
   "metadata": {},
   "outputs": [],
   "source": []
  }
 ],
 "metadata": {
  "kernelspec": {
   "display_name": "Python 3 (ipykernel)",
   "language": "python",
   "name": "python3"
  },
  "language_info": {
   "codemirror_mode": {
    "name": "ipython",
    "version": 3
   },
   "file_extension": ".py",
   "mimetype": "text/x-python",
   "name": "python",
   "nbconvert_exporter": "python",
   "pygments_lexer": "ipython3",
   "version": "3.10.6"
  }
 },
 "nbformat": 4,
 "nbformat_minor": 5
}

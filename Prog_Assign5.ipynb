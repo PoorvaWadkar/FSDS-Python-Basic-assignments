{
 "cells": [
  {
   "cell_type": "code",
   "execution_count": 15,
   "id": "d863571a-6a01-4ade-b048-0b0746921a00",
   "metadata": {},
   "outputs": [],
   "source": [
    "# 1. Write a Python Program to Find LCM?\n",
    "# 2. Write a Python Program to Find HCF?\n",
    "# 3. Write a Python Program to Convert Decimal to Binary, Octal and Hexadecimal?\n",
    "# 4. Write a Python Program To Find ASCII value of a character?\n",
    "# 5. Write a Python Program to Make a Simple Calculator with 4 basic mathematical operations?"
   ]
  },
  {
   "cell_type": "code",
   "execution_count": 2,
   "id": "cc1bbb58-0823-46d5-a1b0-511d24280cda",
   "metadata": {},
   "outputs": [],
   "source": [
    "#1. Write a Python Program to Find LCM?"
   ]
  },
  {
   "cell_type": "code",
   "execution_count": 3,
   "id": "4a678e9a-2df7-4a83-a2c5-6074a8178a9e",
   "metadata": {},
   "outputs": [
    {
     "name": "stdin",
     "output_type": "stream",
     "text": [
      "Enter first number: 3\n",
      "Enter second number: 4\n"
     ]
    },
    {
     "name": "stdout",
     "output_type": "stream",
     "text": [
      "LCM of 3 and 4 is 12\n"
     ]
    }
   ],
   "source": [
    "num1 = int(input(\"Enter first number:\"))\n",
    "num2 = int(input(\"Enter second number:\"))\n",
    "if num1 > num2:\n",
    "    greater = num1\n",
    "else:\n",
    "    greater = num2\n",
    "while True:\n",
    "    if((greater%num1==0) & (greater%num2==0)):\n",
    "        lcm=greater\n",
    "        break\n",
    "    greater += 1\n",
    "print(\"LCM of {} and {} is {}\".format(num1,num2,lcm))"
   ]
  },
  {
   "cell_type": "code",
   "execution_count": 4,
   "id": "3f4e9776-05da-4341-a498-5052491f1384",
   "metadata": {},
   "outputs": [],
   "source": [
    "#2. Write a Python Program to Find HCF?"
   ]
  },
  {
   "cell_type": "code",
   "execution_count": 5,
   "id": "c7d973a1-03c7-41b2-837a-c273ccbefb8b",
   "metadata": {},
   "outputs": [
    {
     "name": "stdin",
     "output_type": "stream",
     "text": [
      "Enter first number: 8\n",
      "Enter second number: 12\n"
     ]
    },
    {
     "name": "stdout",
     "output_type": "stream",
     "text": [
      "HCF of 8 and 12 is 0\n"
     ]
    }
   ],
   "source": [
    "num1 = int(input(\"Enter first number:\"))\n",
    "num2 = int(input(\"Enter second number:\"))\n",
    "if num1 < num2:\n",
    "    smaller = num1\n",
    "else:\n",
    "    smaller = num2\n",
    "while True:\n",
    "    if ((smaller%num1==0) & (smaller%num2==0)):\n",
    "        hcf=smaller\n",
    "        break\n",
    "    smaller=smaller-1\n",
    "print(\"HCF of {} and {} is {}\".format(num1,num2,hcf))        "
   ]
  },
  {
   "cell_type": "code",
   "execution_count": 6,
   "id": "cead14e0-8e79-4677-804b-94393aeadd50",
   "metadata": {},
   "outputs": [],
   "source": [
    "#3. Write a Python Program to Convert Decimal to Binary, Octal and Hexadecimal?"
   ]
  },
  {
   "cell_type": "code",
   "execution_count": 50,
   "id": "d7e7f6be-c31b-4735-9273-23742509036a",
   "metadata": {},
   "outputs": [
    {
     "name": "stdin",
     "output_type": "stream",
     "text": [
      "Enter a decimal number: 13\n"
     ]
    },
    {
     "name": "stdout",
     "output_type": "stream",
     "text": [
      "1\n",
      "0\n",
      "1\n",
      "1\n",
      "Binary of Decimal number 13 is [1, 1, 0, 1]\n"
     ]
    }
   ],
   "source": [
    "n = int(input(\"Enter a decimal number:\"))\n",
    "N=n\n",
    "l=[]\n",
    "while n!=0:    \n",
    "    r=n%2\n",
    "    print(r)\n",
    "    l.append(r)  \n",
    "    n=n//2\n",
    "print(\"Binary of Decimal number {} is {}\".format(N,l[::-1]))"
   ]
  },
  {
   "cell_type": "code",
   "execution_count": 53,
   "id": "dce0b28a-1118-4259-b15e-08a005beb942",
   "metadata": {},
   "outputs": [
    {
     "name": "stdin",
     "output_type": "stream",
     "text": [
      "Enter a decimal number: 45\n"
     ]
    },
    {
     "name": "stdout",
     "output_type": "stream",
     "text": [
      "Binary of Decimal number 45 is [1, 0, 1, 1, 0, 1]\n"
     ]
    }
   ],
   "source": [
    "n = int(input(\"Enter a decimal number:\"))\n",
    "N=n\n",
    "l=[]\n",
    "while n!=0:    \n",
    "    r=n%2\n",
    "    l.append(r)  \n",
    "    n=n//2\n",
    "l=l[::-1]\n",
    "print(\"Binary of Decimal number {} is {}\".format(N,l))"
   ]
  },
  {
   "cell_type": "code",
   "execution_count": 76,
   "id": "d369780a-9004-4f2a-88ca-776bd54c6073",
   "metadata": {},
   "outputs": [
    {
     "name": "stdin",
     "output_type": "stream",
     "text": [
      "Enter a decimal number: 16\n"
     ]
    },
    {
     "name": "stdout",
     "output_type": "stream",
     "text": [
      "Binary of Decimal number 16 is\n",
      "20"
     ]
    }
   ],
   "source": [
    "n = int(input(\"Enter a decimal number:\"))\n",
    "N=n\n",
    "l=[]\n",
    "while n!=0:    \n",
    "    r=n%8\n",
    "    l.append(r)  \n",
    "    n=n//8\n",
    "l=l[::-1]\n",
    "print(\"Octal of Decimal number {} is\".format(N))\n",
    "for i in l:\n",
    "    print(i,end=\"\")"
   ]
  },
  {
   "cell_type": "code",
   "execution_count": 77,
   "id": "98da7b07-3775-402e-90bd-ded476784018",
   "metadata": {},
   "outputs": [
    {
     "name": "stdin",
     "output_type": "stream",
     "text": [
      "Enter a decimal number: 7562\n"
     ]
    },
    {
     "name": "stdout",
     "output_type": "stream",
     "text": [
      "Binary of Decimal number 7562 is\n",
      "16612"
     ]
    }
   ],
   "source": [
    "n = int(input(\"Enter a decimal number:\"))\n",
    "N=n\n",
    "l=[]\n",
    "while n!=0:    \n",
    "    r=n%8\n",
    "    l.append(r)  \n",
    "    n=n//8\n",
    "l=l[::-1]\n",
    "print(\"Octal of Decimal number {} is\".format(N))\n",
    "for i in l:\n",
    "    print(i,end=\"\")"
   ]
  },
  {
   "cell_type": "code",
   "execution_count": 107,
   "id": "0626655c-61d1-4884-99cc-062d58df5c0d",
   "metadata": {},
   "outputs": [
    {
     "name": "stdin",
     "output_type": "stream",
     "text": [
      "Enter a decimal number: 46\n"
     ]
    },
    {
     "name": "stdout",
     "output_type": "stream",
     "text": [
      "Hexadecimal of Decimal number 46 is\n",
      "2E"
     ]
    }
   ],
   "source": [
    "decimal_number =int(input(\"Enter a decimal number:\"))\n",
    "n=decimal_number\n",
    "conversion_table = {0: '0', 1: '1', 2: '2', 3: '3', 4: '4',\n",
    "                    5: '5', 6: '6', 7: '7',\n",
    "                    8: '8', 9: '9', 10: 'A', 11: 'B', 12: 'C',\n",
    "                    13: 'D', 14: 'E', 15: 'F'}\n",
    "l=[]\n",
    "\n",
    "while(decimal_number != 0):\n",
    "    remainder = decimal_number % 16\n",
    "    hexadecimal = conversion_table[remainder]\n",
    "    l.append(hexadecimal)\n",
    "    decimal_number = decimal_number // 16\n",
    "l=l[::-1]\n",
    "print(\"Hexadecimal of Decimal number {} is\".format(n)) \n",
    "for i in l:\n",
    "    print(i,end=\"\")"
   ]
  },
  {
   "cell_type": "code",
   "execution_count": 108,
   "id": "a21a4922-3002-499a-bed1-f514d03b121a",
   "metadata": {},
   "outputs": [
    {
     "name": "stdin",
     "output_type": "stream",
     "text": [
      "Enter a decimal number: 319\n"
     ]
    },
    {
     "name": "stdout",
     "output_type": "stream",
     "text": [
      "Hexadecimal of Decimal number 319 is\n",
      "13F"
     ]
    }
   ],
   "source": [
    "decimal_number =int(input(\"Enter a decimal number:\"))\n",
    "n=decimal_number\n",
    "conversion_table = {0: '0', 1: '1', 2: '2', 3: '3', 4: '4',\n",
    "                    5: '5', 6: '6', 7: '7',\n",
    "                    8: '8', 9: '9', 10: 'A', 11: 'B', 12: 'C',\n",
    "                    13: 'D', 14: 'E', 15: 'F'}\n",
    "l=[]\n",
    "\n",
    "while(decimal_number != 0):\n",
    "    remainder = decimal_number % 16\n",
    "    hexadecimal = conversion_table[remainder]\n",
    "    l.append(hexadecimal)\n",
    "    decimal_number = decimal_number // 16\n",
    "l=l[::-1]\n",
    "print(\"Hexadecimal of Decimal number {} is\".format(n)) \n",
    "for i in l:\n",
    "    print(i,end=\"\")\n",
    "    "
   ]
  },
  {
   "cell_type": "code",
   "execution_count": 9,
   "id": "ca2c20a4-4c2f-451e-8965-b2fcea8e0173",
   "metadata": {},
   "outputs": [],
   "source": [
    "#4. Write a Python Program To Find ASCII value of a character?"
   ]
  },
  {
   "cell_type": "code",
   "execution_count": 10,
   "id": "12ebe306-e0b5-446f-943b-0521baa9c984",
   "metadata": {},
   "outputs": [
    {
     "name": "stdin",
     "output_type": "stream",
     "text": [
      "Please enter a character:  A\n"
     ]
    },
    {
     "name": "stdout",
     "output_type": "stream",
     "text": [
      "The ASCII value of A is 65\n"
     ]
    }
   ],
   "source": [
    "c = input(\"Please enter a character: \")    \n",
    "    \n",
    "print(\"The ASCII value of {} is {}\".format(c,ord(c)))\n",
    "# The ord() function returns an integer representing the Unicode character."
   ]
  },
  {
   "cell_type": "code",
   "execution_count": 11,
   "id": "a63d6f00-3efe-4697-a375-e8a943cc5fdf",
   "metadata": {},
   "outputs": [
    {
     "name": "stdin",
     "output_type": "stream",
     "text": [
      "Please enter a character:  a\n"
     ]
    },
    {
     "name": "stdout",
     "output_type": "stream",
     "text": [
      "The ASCII value of a is 97\n"
     ]
    }
   ],
   "source": [
    "c = input(\"Please enter a character: \")    \n",
    "    \n",
    "print(\"The ASCII value of {} is {}\".format(c,ord(c)))"
   ]
  },
  {
   "cell_type": "code",
   "execution_count": 12,
   "id": "987c300f-838d-425a-a10f-062a52474001",
   "metadata": {},
   "outputs": [],
   "source": [
    "#5. Write a Python Program to Make a Simple Calculator with 4 basic mathematical operations?"
   ]
  },
  {
   "cell_type": "code",
   "execution_count": 13,
   "id": "0e9a235e-8042-4470-82ac-acc20fedef79",
   "metadata": {},
   "outputs": [
    {
     "name": "stdin",
     "output_type": "stream",
     "text": [
      "Enter first number:  10\n",
      "Enter second number:  5\n"
     ]
    },
    {
     "name": "stdout",
     "output_type": "stream",
     "text": [
      "Addition: 15\n",
      "Substraction: 5\n",
      "Multtiplication: 50\n",
      "Division: 2.0\n"
     ]
    }
   ],
   "source": [
    "num1 =int(input(\"Enter first number: \"))\n",
    "num2 =int(input(\"Enter second number: \"))\n",
    "add = num1 + num2\n",
    "sub = num1 - num2\n",
    "mul = num1 * num2\n",
    "\n",
    "print(\"Addition: {}\".format(add))\n",
    "print(\"Substraction: {}\".format(sub))\n",
    "print(\"Multtiplication: {}\".format(mul))\n",
    "if num2 == 0:\n",
    "    print(\"Numerator can not be divided by zero\")\n",
    "else:\n",
    "    div = num1 / num2\n",
    "    print(\"Division: {}\".format(div))"
   ]
  },
  {
   "cell_type": "code",
   "execution_count": 14,
   "id": "e9b942d4-0774-4dad-bf90-9b51e421b4d5",
   "metadata": {},
   "outputs": [
    {
     "name": "stdin",
     "output_type": "stream",
     "text": [
      "Enter first number:  10\n",
      "Enter second number:  0\n"
     ]
    },
    {
     "name": "stdout",
     "output_type": "stream",
     "text": [
      "Addition: 10\n",
      "Substraction: 10\n",
      "Multtiplication: 0\n",
      "Division : Numerator can not be divided by zero\n"
     ]
    }
   ],
   "source": [
    "num1 =int(input(\"Enter first number: \"))\n",
    "num2 =int(input(\"Enter second number: \"))\n",
    "add = num1 + num2\n",
    "sub = num1 - num2\n",
    "mul = num1 * num2\n",
    "\n",
    "print(\"Addition: {}\".format(add))\n",
    "print(\"Substraction: {}\".format(sub))\n",
    "print(\"Multtiplication: {}\".format(mul))\n",
    "if num2 == 0:\n",
    "    print(\"Division : Numerator can not be divided by zero\")\n",
    "else:\n",
    "    div = num1 / num2\n",
    "    print(\"Division: {}\".format(div))"
   ]
  },
  {
   "cell_type": "code",
   "execution_count": null,
   "id": "8be6796c-3bf5-4e96-bc9f-ed22d501e1ac",
   "metadata": {},
   "outputs": [],
   "source": []
  }
 ],
 "metadata": {
  "kernelspec": {
   "display_name": "Python 3 (ipykernel)",
   "language": "python",
   "name": "python3"
  },
  "language_info": {
   "codemirror_mode": {
    "name": "ipython",
    "version": 3
   },
   "file_extension": ".py",
   "mimetype": "text/x-python",
   "name": "python",
   "nbconvert_exporter": "python",
   "pygments_lexer": "ipython3",
   "version": "3.10.6"
  }
 },
 "nbformat": 4,
 "nbformat_minor": 5
}

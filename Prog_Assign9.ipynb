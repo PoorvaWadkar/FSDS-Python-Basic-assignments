{
 "cells": [
  {
   "cell_type": "code",
   "execution_count": null,
   "id": "314ae7ed-75a5-4472-973c-0ff78ce8ec0e",
   "metadata": {},
   "outputs": [],
   "source": [
    "# 1. Write a Python program to check if the given number is a Disarium Number?\n",
    "# 2. Write a Python program to print all disarium numbers between 1 to 100?\n",
    "# 3. Write a Python program to check if the given number is Happy Number?\n",
    "# 4. Write a Python program to print all happy numbers between 1 and 100?\n",
    "# 5. Write a Python program to determine whether the given number is a Harshad Number?\n",
    "# 6. Write a Python program to print all pronic numbers between 1 and 100?"
   ]
  },
  {
   "cell_type": "code",
   "execution_count": null,
   "id": "edebc364-0838-4509-840f-38232b935ddb",
   "metadata": {},
   "outputs": [],
   "source": [
    "# 1. Write a Python program to check if the given number is a Disarium Number?"
   ]
  },
  {
   "cell_type": "code",
   "execution_count": 41,
   "id": "c89b90e4-0a51-40b5-8ceb-594d20105fb4",
   "metadata": {},
   "outputs": [
    {
     "name": "stdin",
     "output_type": "stream",
     "text": [
      "Enter a number : 175\n"
     ]
    },
    {
     "name": "stdout",
     "output_type": "stream",
     "text": [
      "Sum of its digit raised to the power of their respective positions : 175\n",
      "175 is Disarium Number\n"
     ]
    }
   ],
   "source": [
    "number =input(\"Enter a number :\")  \n",
    "n= len(number)    \n",
    "sum=0\n",
    "position=1\n",
    "for i in number:\n",
    "    sum = sum + (int(i)**position)\n",
    "    position=position+1\n",
    "print(\"Sum of its digit raised to the power of their respective positions :\",sum)\n",
    "\n",
    "if sum==int(number):\n",
    "    print(number , \"is Disarium Number\")\n",
    "else:\n",
    "    print(number , \"is not a Disarium Number\")"
   ]
  },
  {
   "cell_type": "code",
   "execution_count": 52,
   "id": "e164dd6e-5c0f-456c-9c2f-f4e87cf7d457",
   "metadata": {},
   "outputs": [
    {
     "name": "stdin",
     "output_type": "stream",
     "text": [
      "Enter a number : 150\n"
     ]
    },
    {
     "name": "stdout",
     "output_type": "stream",
     "text": [
      "Sum of its digit raised to the power of their respective positions : 26\n",
      "150 is not a Disarium Number\n"
     ]
    }
   ],
   "source": [
    "number =input(\"Enter a number :\")  \n",
    "n= len(number)    \n",
    "sum=0\n",
    "position=1\n",
    "for i in number:\n",
    "    sum = sum + (int(i)**position)\n",
    "    position=position+1\n",
    "print(\"Sum of its digit raised to the power of their respective positions :\",sum)\n",
    "\n",
    "if sum==int(number):\n",
    "    print(number , \"is Disarium Number\")\n",
    "else:\n",
    "    print(number , \"is not a Disarium Number\")"
   ]
  },
  {
   "cell_type": "code",
   "execution_count": null,
   "id": "ec8d852f-d712-4ac4-a3b4-cef5571cd4b9",
   "metadata": {},
   "outputs": [],
   "source": [
    "# 2. Write a Python program to print all disarium numbers between 1 to 100?"
   ]
  },
  {
   "cell_type": "code",
   "execution_count": 9,
   "id": "bc5fc6ce-9874-4030-b948-944e0c462de8",
   "metadata": {},
   "outputs": [
    {
     "name": "stdout",
     "output_type": "stream",
     "text": [
      "1 is Disarium Number\n",
      "2 is Disarium Number\n",
      "3 is Disarium Number\n",
      "4 is Disarium Number\n",
      "5 is Disarium Number\n",
      "6 is Disarium Number\n",
      "7 is Disarium Number\n",
      "8 is Disarium Number\n",
      "9 is Disarium Number\n",
      "89 is Disarium Number\n"
     ]
    }
   ],
   "source": [
    "n=1\n",
    "while(n<=100):\n",
    "    n=str(n)   \n",
    "    sum=0\n",
    "    position=1\n",
    "    for i in n:\n",
    "        sum = sum + (int(i)**position)\n",
    "        position=position+1\n",
    "    #print(\"Sum of its digit raised to the power of their respective positions :\",sum)\n",
    "\n",
    "    if sum==int(n):\n",
    "        print(n , \"is Disarium Number\")\n",
    "    # else:\n",
    "    #     print(n , \"is not a Disarium Number\")\n",
    "    n=int(n)\n",
    "    n=n+1"
   ]
  },
  {
   "cell_type": "code",
   "execution_count": 10,
   "id": "757d8507-5b11-48e3-a060-5e34cd4560c3",
   "metadata": {},
   "outputs": [],
   "source": [
    "# 3. Write a Python program to check if the given number is Happy Number?"
   ]
  },
  {
   "cell_type": "code",
   "execution_count": 7,
   "id": "79d40914-e4be-4ea4-8353-c799f3c9a9fa",
   "metadata": {},
   "outputs": [
    {
     "name": "stdout",
     "output_type": "stream",
     "text": [
      "32  is a Happy Number\n"
     ]
    }
   ],
   "source": [
    "num=32\n",
    "result=num\n",
    "\n",
    "def happy(n):\n",
    "    sum=0\n",
    "    while(n>0):       \n",
    "        rem=n%10\n",
    "        sum=sum+rem*rem        \n",
    "        n=n//10\n",
    "    return sum\n",
    "\n",
    "while(result!=1 and result!=4):    \n",
    "    result=happy(result)\n",
    "    #print(result)\n",
    "if (result==1):\n",
    "    print(num,\" is a Happy Number\")\n",
    "else:\n",
    "    print(num,\" is not a Happy Number\")"
   ]
  },
  {
   "cell_type": "code",
   "execution_count": 8,
   "id": "c5838ad8-14a2-4b8d-83cf-65a4cb7a392d",
   "metadata": {},
   "outputs": [
    {
     "name": "stdout",
     "output_type": "stream",
     "text": [
      "33  is not a Happy Number\n"
     ]
    }
   ],
   "source": [
    "num=33\n",
    "result=num\n",
    "\n",
    "def happy(n):\n",
    "    sum=0\n",
    "    while(n>0):        \n",
    "        rem=n%10\n",
    "        sum=sum+rem*rem        \n",
    "        n=n//10\n",
    "    return sum\n",
    "\n",
    "while(result!=1 and result!=4):\n",
    "    \n",
    "    result=happy(result)\n",
    "    #print(result)\n",
    "if (result==1):\n",
    "    print(num,\" is a Happy Number\")\n",
    "else:\n",
    "    print(num,\" is not a Happy Number\")"
   ]
  },
  {
   "cell_type": "code",
   "execution_count": 9,
   "id": "e7f5c754-929f-4d89-a54e-30b4d6a2158f",
   "metadata": {},
   "outputs": [],
   "source": [
    "# 4. Write a Python program to print all happy numbers between 1 and 100?"
   ]
  },
  {
   "cell_type": "code",
   "execution_count": 1,
   "id": "2ed5d2db-9538-4b7a-bec8-05a1ef27d80e",
   "metadata": {},
   "outputs": [
    {
     "name": "stdout",
     "output_type": "stream",
     "text": [
      "1  is a Happy Number\n",
      "7  is a Happy Number\n",
      "10  is a Happy Number\n",
      "13  is a Happy Number\n",
      "19  is a Happy Number\n",
      "23  is a Happy Number\n",
      "28  is a Happy Number\n",
      "31  is a Happy Number\n",
      "32  is a Happy Number\n",
      "44  is a Happy Number\n",
      "49  is a Happy Number\n",
      "68  is a Happy Number\n",
      "70  is a Happy Number\n",
      "79  is a Happy Number\n",
      "82  is a Happy Number\n",
      "86  is a Happy Number\n",
      "91  is a Happy Number\n",
      "94  is a Happy Number\n",
      "97  is a Happy Number\n",
      "100  is a Happy Number\n"
     ]
    }
   ],
   "source": [
    "def happy(n):\n",
    "    sum=0\n",
    "    while(n>0):       \n",
    "        rem=n%10\n",
    "        sum=sum+rem*rem        \n",
    "        n=n//10\n",
    "    return sum\n",
    "\n",
    "for i in range(1,101):\n",
    "    result=i\n",
    "    \n",
    "    while(result!=1 and result!=4):    \n",
    "        result=happy(result)\n",
    "        #print(result)\n",
    "    if (result==1):\n",
    "        print(i,\" is a Happy Number\")\n",
    "   \n"
   ]
  },
  {
   "cell_type": "code",
   "execution_count": 2,
   "id": "e9c25f4e-452c-4328-9994-61982413bd3b",
   "metadata": {},
   "outputs": [],
   "source": [
    "# 5. Write a Python program to determine whether the given number is a Harshad Number?"
   ]
  },
  {
   "cell_type": "code",
   "execution_count": 27,
   "id": "6b4008ea-c9c8-4e8c-95bd-c0219e50d396",
   "metadata": {},
   "outputs": [
    {
     "name": "stdout",
     "output_type": "stream",
     "text": [
      "Sum : 9\n",
      "54  is a Harshad Number\n"
     ]
    }
   ],
   "source": [
    "num=54\n",
    "n=num\n",
    "sum=0\n",
    "while(n>0):\n",
    "    rem=n%10\n",
    "    sum=sum+rem\n",
    "    n=n//10\n",
    "print(\"Sum :\",sum)\n",
    "if((num%sum)==0):\n",
    "    print(num,\" is a Harshad Number\")\n",
    "else:\n",
    "    print(num,\" is not a Harshad Number\")"
   ]
  },
  {
   "cell_type": "code",
   "execution_count": 28,
   "id": "1bb41896-a265-40a0-a5ed-1206ae19a7c0",
   "metadata": {},
   "outputs": [
    {
     "name": "stdout",
     "output_type": "stream",
     "text": [
      "Sum : 10\n",
      "55  is not a Harshad Number\n"
     ]
    }
   ],
   "source": [
    "num=55\n",
    "n=num\n",
    "sum=0\n",
    "while(n>0):\n",
    "    rem=n%10\n",
    "    sum=sum+rem\n",
    "    n=n//10\n",
    "print(\"Sum :\",sum)\n",
    "if((num%sum)==0):\n",
    "    print(num,\" is a Harshad Number\")\n",
    "else:\n",
    "    print(num,\" is not a Harshad Number\")"
   ]
  },
  {
   "cell_type": "code",
   "execution_count": 29,
   "id": "dd068c99-abfc-4d55-9025-6469cbb8f18f",
   "metadata": {},
   "outputs": [],
   "source": [
    "# 6. Write a Python program to print all pronic numbers between 1 and 100?"
   ]
  },
  {
   "cell_type": "code",
   "execution_count": 33,
   "id": "59962386-f136-4a43-bc30-82e1eace5ed0",
   "metadata": {},
   "outputs": [
    {
     "name": "stdout",
     "output_type": "stream",
     "text": [
      "2  is a Pronic number\n",
      "6  is a Pronic number\n",
      "12  is a Pronic number\n",
      "20  is a Pronic number\n",
      "30  is a Pronic number\n",
      "42  is a Pronic number\n",
      "56  is a Pronic number\n",
      "72  is a Pronic number\n",
      "90  is a Pronic number\n"
     ]
    }
   ],
   "source": [
    "for i in range(1,101):\n",
    "    n=i\n",
    "    result=0\n",
    "    flag=0\n",
    "    for j in range(0,n+1):\n",
    "        result=j*(j+1)                \n",
    "        if (n==result):\n",
    "            flag=1\n",
    "            break\n",
    "\n",
    "    if (flag==1):\n",
    "        print(n,\" is a Pronic number\")\n",
    "    \n",
    "    \n",
    "#0, 2, 6, 12, 20, 30, 42, 56 "
   ]
  },
  {
   "cell_type": "code",
   "execution_count": null,
   "id": "690f2442-42f6-445b-aa5e-b2a7e327947f",
   "metadata": {},
   "outputs": [],
   "source": []
  }
 ],
 "metadata": {
  "kernelspec": {
   "display_name": "Python 3 (ipykernel)",
   "language": "python",
   "name": "python3"
  },
  "language_info": {
   "codemirror_mode": {
    "name": "ipython",
    "version": 3
   },
   "file_extension": ".py",
   "mimetype": "text/x-python",
   "name": "python",
   "nbconvert_exporter": "python",
   "pygments_lexer": "ipython3",
   "version": "3.10.6"
  }
 },
 "nbformat": 4,
 "nbformat_minor": 5
}

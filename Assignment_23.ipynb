{
 "cells": [
  {
   "cell_type": "code",
   "execution_count": 2,
   "id": "c9e8d4d8-81ea-49c9-9ef3-335d60ff69cf",
   "metadata": {},
   "outputs": [
    {
     "name": "stdout",
     "output_type": "stream",
     "text": [
      "1 2 8\n"
     ]
    }
   ],
   "source": [
    "#1. What is the result of the code, and why?\n",
    "\n",
    "# function func has three parameters a, b, and c. \n",
    "# The parameters b and c have default values of 6 and 8 respectively.\n",
    "# When func(1, 2) is called .we are providing values for the first two parameters a and b.\n",
    "# But we are not providind a value for the third parameter c. \n",
    "# Since c has a default value of 8 it will use that default value.\n",
    "\n",
    "def func(a, b=6, c=8):\n",
    "    print(a, b, c)\n",
    "func(1, 2)"
   ]
  },
  {
   "cell_type": "code",
   "execution_count": 5,
   "id": "89597e43-bec5-4477-8ecf-c3dbf153e61c",
   "metadata": {},
   "outputs": [
    {
     "name": "stdout",
     "output_type": "stream",
     "text": [
      "1 2 3\n"
     ]
    }
   ],
   "source": [
    "#2. What is the result of this code, and why?\n",
    "\n",
    "# function func has three parameters a, b, and c. \n",
    "#The parameter c has a default value of 5.\n",
    "# When we call the function func(1, c=3, b=2) we are providing values for all three parameters\n",
    "# a is assigned 1, b is assigned 2, and c is assigned 3.\n",
    "\n",
    "def func(a, b, c=5):\n",
    "    print(a, b, c)\n",
    "func(1, c=3, b=2)"
   ]
  },
  {
   "cell_type": "code",
   "execution_count": 6,
   "id": "09fde5fa-6ea6-49d6-98f4-fc54751eac52",
   "metadata": {},
   "outputs": [
    {
     "name": "stdout",
     "output_type": "stream",
     "text": [
      "1 (2, 3)\n"
     ]
    }
   ],
   "source": [
    "#3. How about this code: what is its result, and why?\n",
    "\n",
    "# function func has two parameters a and *pargs.\n",
    "# The *pargs syntax in the parameter list indicates that any extra positional arguments passed to the function\n",
    "# will be collected into a tuple called pargs.\n",
    "# When we call the function func(1, 2, 3) we are providing three positional arguments: 1, 2, and 3.\n",
    "# The first argument (a) is assigned 1 and the remaining arguments 2 and 3 are collected into the tuple pargs.\n",
    "\n",
    "def func(a, *pargs):\n",
    "    print(a, pargs)\n",
    "func(1, 2, 3)"
   ]
  },
  {
   "cell_type": "code",
   "execution_count": 7,
   "id": "85a9616b-f264-4c3f-80b7-19b6c8b764e2",
   "metadata": {},
   "outputs": [
    {
     "name": "stdout",
     "output_type": "stream",
     "text": [
      "1 {'c': 3, 'b': 2}\n"
     ]
    }
   ],
   "source": [
    "#4. What does this code print, and why?\n",
    "\n",
    "# function func has two parameters a and **kargs.\n",
    "#The **kargs syntax in the parameter list indicates that any extra keyword arguments passed to the function\n",
    "#will be collected into a dictionary called kargs.\n",
    "# When we call the function func(a=1, c=3, b=2) we are providing three keyword arguments a with a value of 1, c \n",
    "# with a value of 3, and b with a value of 2. These keyword arguments are collected into the dictionary kargs.\n",
    "\n",
    "def func(a, **kargs):\n",
    "    print(a, kargs)\n",
    "func(a=1, c=3, b=2)"
   ]
  },
  {
   "cell_type": "code",
   "execution_count": 8,
   "id": "15a33a9e-8901-48ba-a0f6-8a0e40b69f94",
   "metadata": {},
   "outputs": [
    {
     "name": "stdout",
     "output_type": "stream",
     "text": [
      "1 5 6 5\n"
     ]
    }
   ],
   "source": [
    "#5. What gets printed by this, and explain?\n",
    "\n",
    "# function func has four parameters a, b, c, and d. \n",
    "# The parameters c and d have default values of 8 and 5, respectively.\n",
    "# When we call the function func(1, *(5, 6)) we are providing two positional arguments 1 and a tuple (5, 6). \n",
    "# The * operator is used to unpack the elements of the tuple which means that the tuple's elements will be passed \n",
    "# as separate arguments to the function. So the function call is effectively func(1, 5, 6).\n",
    "\n",
    "def func(a, b, c=8, d=5): \n",
    "    print(a, b, c, d)\n",
    "func(1, *(5, 6))"
   ]
  },
  {
   "cell_type": "code",
   "execution_count": 13,
   "id": "d12167d0-4027-40e1-b03d-cfcc2ccfa5e9",
   "metadata": {},
   "outputs": [
    {
     "data": {
      "text/plain": [
       "(1, ['x'], {'a': 'y'})"
      ]
     },
     "execution_count": 13,
     "metadata": {},
     "output_type": "execute_result"
    }
   ],
   "source": [
    "#6. what is the result of this, and explain?\n",
    "\n",
    "# l, m, and n are initialized with the values 1, [1], and {\"a\": 0} respectively.\n",
    "# The function func is called with arguments l, m, and n.\n",
    "# Inside the function, a is assigned the value 2, b[0] (the first element of list m) is assigned the value \"x\"\n",
    "# and c[\"a\"] (the value associated with key \"a\" in dictionary n) is assigned the value \"y\".\n",
    "# After the function call, the values of l, m, and n are printed.\n",
    "\n",
    "def func(a, b, c): \n",
    "    a = 2; b[0] = \"x\" ;c[\"a\"] = \"y\"\n",
    "    \n",
    "l=1; m=[1]; n={\"a\":0}\n",
    "func(l, m, n)\n",
    "l, m, n"
   ]
  }
 ],
 "metadata": {
  "kernelspec": {
   "display_name": "Python 3 (ipykernel)",
   "language": "python",
   "name": "python3"
  },
  "language_info": {
   "codemirror_mode": {
    "name": "ipython",
    "version": 3
   },
   "file_extension": ".py",
   "mimetype": "text/x-python",
   "name": "python",
   "nbconvert_exporter": "python",
   "pygments_lexer": "ipython3",
   "version": "3.10.6"
  }
 },
 "nbformat": 4,
 "nbformat_minor": 5
}

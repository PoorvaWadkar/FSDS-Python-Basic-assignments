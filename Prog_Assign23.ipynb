{
 "cells": [
  {
   "cell_type": "markdown",
   "id": "38fad9e2-7215-41a9-8cd1-7931e7b2ac75",
   "metadata": {},
   "source": [
    "Question 1\n",
    "Create a function that takes a number as an argument and returns True or False depending\n",
    "on whether the number is symmetrical or not. A number is symmetrical when it is the same as\n",
    "its reverse.\n",
    "Examples\n",
    "is_symmetrical(7227) ➞ True\n",
    "is_symmetrical(12567) ➞ False\n",
    "is_symmetrical(44444444) ➞ True\n",
    "is_symmetrical(9939) ➞ False\n",
    "is_symmetrical(1112111) ➞ True"
   ]
  },
  {
   "cell_type": "code",
   "execution_count": 1,
   "id": "0fee1e3f-73a2-4813-b77f-951511e400aa",
   "metadata": {},
   "outputs": [
    {
     "name": "stdout",
     "output_type": "stream",
     "text": [
      "True\n",
      "False\n",
      "True\n",
      "False\n",
      "True\n"
     ]
    }
   ],
   "source": [
    "def is_symmetrical(number):\n",
    "    num_str = str(number)\n",
    "    return num_str == num_str[::-1]\n",
    "print(is_symmetrical(7227))    \n",
    "print(is_symmetrical(12567))   \n",
    "print(is_symmetrical(44444444))\n",
    "print(is_symmetrical(9939))    \n",
    "print(is_symmetrical(1112111)) "
   ]
  },
  {
   "cell_type": "markdown",
   "id": "15b365ef-b12d-4f17-9878-b511a977188a",
   "metadata": {},
   "source": [
    "Question 2\n",
    "Given a string of numbers separated by a comma and space, return the product of the\n",
    "numbers.\n",
    "Examples\n",
    "multiply_nums(\"2, 3\") ➞ 6\n",
    "multiply_nums(\"1, 2, 3, 4\") ➞ 24\n",
    "multiply_nums(\"54, 75, 453, 0\") ➞ 0\n",
    "multiply_nums(\"10, -2\") ➞ -20"
   ]
  },
  {
   "cell_type": "code",
   "execution_count": 5,
   "id": "a096385d-b456-4322-8073-83d5bd0a2c7c",
   "metadata": {},
   "outputs": [
    {
     "name": "stdout",
     "output_type": "stream",
     "text": [
      "6\n",
      "24\n",
      "0\n",
      "-20\n"
     ]
    }
   ],
   "source": [
    "def multiply_nums(nums_str):\n",
    "    numbers = nums_str.split(', ')\n",
    "    product = 1\n",
    "    for num in numbers:\n",
    "        product *= int(num)\n",
    "    return product\n",
    "\n",
    "print(multiply_nums(\"2, 3\"))          \n",
    "print(multiply_nums(\"1, 2, 3, 4\"))    \n",
    "print(multiply_nums(\"54, 75, 453, 0\"))\n",
    "print(multiply_nums(\"10, -2\"))        "
   ]
  },
  {
   "cell_type": "markdown",
   "id": "f767b058-b922-48cd-bebd-04e32c549207",
   "metadata": {},
   "source": [
    "Question 3\n",
    "Create a function that squares every digit of a number.\n",
    "Examples\n",
    "square_digits(9119) ➞ 811181\n",
    "square_digits(2483) ➞ 416649\n",
    "square_digits(3212) ➞ 9414\n",
    "Notes\n",
    "The function receives an integer and must return an integer."
   ]
  },
  {
   "cell_type": "code",
   "execution_count": 7,
   "id": "4cdb6574-55c7-4cf3-b286-71e1074120f5",
   "metadata": {},
   "outputs": [
    {
     "name": "stdout",
     "output_type": "stream",
     "text": [
      "811181\n",
      "416649\n",
      "9414\n"
     ]
    }
   ],
   "source": [
    "def square_digits(number):\n",
    "    \n",
    "    number_str = str(number)\n",
    "    squared_str = \"\"\n",
    "    for digit in number_str:\n",
    "        squared_digit = int(digit) ** 2\n",
    "        squared_str += str(squared_digit)\n",
    "    return int(squared_str)\n",
    "\n",
    "print(square_digits(9119)) \n",
    "print(square_digits(2483)) \n",
    "print(square_digits(3212)) "
   ]
  },
  {
   "cell_type": "markdown",
   "id": "e8ac341b-3ca8-443b-8241-d3ceb90bcc5e",
   "metadata": {},
   "source": [
    "Question 4\n",
    "Create a function that sorts a list and removes all duplicate items from it.\n",
    "Examples\n",
    "setify([1, 3, 3, 5, 5]) ➞ [1, 3, 5]\n",
    "setify([4, 4, 4, 4]) ➞ [4]\n",
    "setify([5, 7, 8, 9, 10, 15]) ➞ [5, 7, 8, 9, 10, 15]\n",
    "setify([3, 3, 3, 2, 1]) ➞ [1, 2, 3]"
   ]
  },
  {
   "cell_type": "code",
   "execution_count": 8,
   "id": "914299e9-00b9-40b4-8bf6-2a1c59bb04c5",
   "metadata": {},
   "outputs": [
    {
     "name": "stdout",
     "output_type": "stream",
     "text": [
      "[1, 3, 5]\n",
      "[4]\n",
      "[5, 7, 8, 9, 10, 15]\n",
      "[1, 2, 3]\n"
     ]
    }
   ],
   "source": [
    "def setify(lst):\n",
    "    unique_list = list(set(lst))\n",
    "    unique_list.sort()\n",
    "    return unique_list\n",
    "\n",
    "print(setify([1, 3, 3, 5, 5]))      \n",
    "print(setify([4, 4, 4, 4]))         \n",
    "print(setify([5, 7, 8, 9, 10, 15])) \n",
    "print(setify([3, 3, 3, 2, 1]))      "
   ]
  },
  {
   "cell_type": "markdown",
   "id": "59426d9f-50a8-474f-b53d-af3a374d48be",
   "metadata": {},
   "source": [
    "Question 5\n",
    "Create a function that returns the mean of all digits.\n",
    "Examples\n",
    "mean(42) ➞ 3\n",
    "mean(12345) ➞ 3\n",
    "mean(666) ➞ 6\n",
    "Notes\n",
    "The mean of all digits is the sum of digits / how many digits there are (e.g. mean of digits in\n",
    "512 is (5+1+2)/3(number of digits) = 8/3=2).\n",
    "The mean will always be an integer."
   ]
  },
  {
   "cell_type": "code",
   "execution_count": 9,
   "id": "17ae93d0-d1a4-43b2-a5c0-20871413a274",
   "metadata": {},
   "outputs": [
    {
     "name": "stdout",
     "output_type": "stream",
     "text": [
      "3\n",
      "3\n",
      "6\n"
     ]
    }
   ],
   "source": [
    "def mean(number):\n",
    "    num_str = str(number)\n",
    "    sum_digits = sum(int(digit) for digit in num_str)\n",
    "    num_digits = len(num_str)\n",
    "    mean_digits = sum_digits // num_digits\n",
    "    \n",
    "    return mean_digits\n",
    "\n",
    "print(mean(42))      \n",
    "print(mean(12345))   \n",
    "print(mean(666))     "
   ]
  },
  {
   "cell_type": "code",
   "execution_count": null,
   "id": "e2893109-b924-43a3-8431-de40fbb0fcdb",
   "metadata": {},
   "outputs": [],
   "source": []
  }
 ],
 "metadata": {
  "kernelspec": {
   "display_name": "Python 3 (ipykernel)",
   "language": "python",
   "name": "python3"
  },
  "language_info": {
   "codemirror_mode": {
    "name": "ipython",
    "version": 3
   },
   "file_extension": ".py",
   "mimetype": "text/x-python",
   "name": "python",
   "nbconvert_exporter": "python",
   "pygments_lexer": "ipython3",
   "version": "3.10.6"
  }
 },
 "nbformat": 4,
 "nbformat_minor": 5
}

{
 "cells": [
  {
   "cell_type": "code",
   "execution_count": null,
   "id": "d7189f4f-6ac1-4756-ba95-b0696ad08065",
   "metadata": {},
   "outputs": [],
   "source": [
    "# 1. Create a zoo.py file first. Define the hours() function, which prints the string 'Open 9-5 daily'. Then, use the interactive interpreter to import the zoo module and call its hours() function.\n",
    "# 2. In the interactive interpreter, import the zoo module as menagerie and call its hours() function.\n",
    "# 3. Using the interpreter, explicitly import and call the hours() function from zoo.\n",
    "# 4. Import the hours() function as info and call it.\n",
    "# 5. Create a plain dictionary with the key-value pairs 'a': 1, 'b': 2, and 'c': 3, and print it out.\n",
    "# 6.Make an OrderedDict called fancy from the same pairs listed in 5 and print it. Did it print in the same order as plain?\n",
    "# 7. Make a default dictionary called dict_of_lists and pass it the argument list. Make the list dict_of_lists['a'] and append the value 'something for a' to it in one assignment. Print dict_of_lists['a']."
   ]
  },
  {
   "cell_type": "code",
   "execution_count": null,
   "id": "50b4355e-7bfb-42c7-bbaa-d17522eb6df1",
   "metadata": {},
   "outputs": [],
   "source": [
    "# 1. Create a zoo.py file first. Define the hours() function, which prints the string 'Open 9-5 daily'. Then, use the interactive interpreter to import the zoo module and call its hours() function."
   ]
  },
  {
   "cell_type": "code",
   "execution_count": null,
   "id": "64d417a9-afe6-42e2-b4bb-d50c4468631c",
   "metadata": {},
   "outputs": [],
   "source": [
    "#save this file with name zoo.py\n",
    "def hours():\n",
    "    print('Open 9-5 daily')\n",
    "\n",
    "#import zoo.py\n",
    "import zoo\n",
    "zoo.hours()"
   ]
  },
  {
   "cell_type": "code",
   "execution_count": 1,
   "id": "c3c89e4e-22ab-4024-9ef1-d3498067d4c8",
   "metadata": {},
   "outputs": [],
   "source": [
    "# 2. In the interactive interpreter, import the zoo module as menagerie and call its hours() function."
   ]
  },
  {
   "cell_type": "code",
   "execution_count": null,
   "id": "39477fa8-3c38-4b40-8c2e-93b586e1f313",
   "metadata": {},
   "outputs": [],
   "source": [
    "import zoo as menagerie\n",
    "menagerie.hours()"
   ]
  },
  {
   "cell_type": "code",
   "execution_count": 2,
   "id": "fb544994-5624-4f92-b1d2-519fea346d00",
   "metadata": {},
   "outputs": [],
   "source": [
    "# 3. Using the interpreter, explicitly import and call the hours() function from zoo."
   ]
  },
  {
   "cell_type": "code",
   "execution_count": null,
   "id": "c591d854-e4cd-47f8-ba96-f7ca14a45968",
   "metadata": {},
   "outputs": [],
   "source": [
    "from zoo import hours\n",
    "hours()"
   ]
  },
  {
   "cell_type": "code",
   "execution_count": 3,
   "id": "6c94c7b7-b29b-4591-88ba-7ca593f39eba",
   "metadata": {},
   "outputs": [],
   "source": [
    "# 4. Import the hours() function as info and call it."
   ]
  },
  {
   "cell_type": "code",
   "execution_count": null,
   "id": "ef8211f3-a174-48f6-b0a0-1f6c7df3caba",
   "metadata": {},
   "outputs": [],
   "source": [
    "from zoo import hours as info\n",
    "info()"
   ]
  },
  {
   "cell_type": "code",
   "execution_count": 4,
   "id": "b2bf48d7-13bc-42aa-a361-d5841284d155",
   "metadata": {},
   "outputs": [],
   "source": [
    "# 5. Create a plain dictionary with the key-value pairs 'a': 1, 'b': 2, and 'c': 3, and print it out."
   ]
  },
  {
   "cell_type": "code",
   "execution_count": 7,
   "id": "37065690-a273-4610-a61a-362e370dfb0d",
   "metadata": {},
   "outputs": [
    {
     "name": "stdout",
     "output_type": "stream",
     "text": [
      "{'a': 1, 'b': 2, 'c': 3}\n"
     ]
    }
   ],
   "source": [
    "d={'a': 1, 'b': 2, 'c': 3}\n",
    "print(d)"
   ]
  },
  {
   "cell_type": "code",
   "execution_count": null,
   "id": "e735b84f-9696-43a2-a497-e826f816e4d0",
   "metadata": {},
   "outputs": [],
   "source": [
    "# 6.Make an OrderedDict called fancy from the same pairs listed in 5 and print it. Did it print in the same order as plain?"
   ]
  },
  {
   "cell_type": "code",
   "execution_count": 9,
   "id": "ef6b78f7-0466-437f-9ae8-6b27288e05ab",
   "metadata": {},
   "outputs": [
    {
     "name": "stdout",
     "output_type": "stream",
     "text": [
      "OrderedDict([('a', 1), ('b', 2), ('c', 3)])\n"
     ]
    }
   ],
   "source": [
    "from collections import OrderedDict\n",
    "\n",
    "# Create the OrderedDict\n",
    "fancy = OrderedDict([('a', 1), ('b', 2), ('c', 3)])\n",
    "\n",
    "# Print the OrderedDict\n",
    "print(fancy)\n",
    "#Yes it print the same order as the plain dictionary."
   ]
  },
  {
   "cell_type": "code",
   "execution_count": 11,
   "id": "a2875e34-b882-48a0-bc4c-451350669685",
   "metadata": {},
   "outputs": [],
   "source": [
    "# 7. Make a default dictionary called dict_of_lists and pass it the argument list. Make the list dict_of_lists['a'] and append the value 'something for a' to it in one assignment. Print dict_of_lists['a']."
   ]
  },
  {
   "cell_type": "code",
   "execution_count": 12,
   "id": "b05dddb8-3dbc-47be-b2f9-ae673d8f0fb7",
   "metadata": {},
   "outputs": [
    {
     "name": "stdout",
     "output_type": "stream",
     "text": [
      "['something for a']\n"
     ]
    }
   ],
   "source": [
    "from collections import defaultdict\n",
    "\n",
    "# Create the defaultdict\n",
    "dict_of_lists = defaultdict(list)\n",
    "\n",
    "# Append the value to the list associated with 'a'\n",
    "dict_of_lists['a'].append('something for a')\n",
    "\n",
    "# Print dict_of_lists['a']\n",
    "print(dict_of_lists['a'])"
   ]
  },
  {
   "cell_type": "code",
   "execution_count": null,
   "id": "4389d495-483a-4764-a32f-4ba04e99d4cc",
   "metadata": {},
   "outputs": [],
   "source": []
  }
 ],
 "metadata": {
  "kernelspec": {
   "display_name": "Python 3 (ipykernel)",
   "language": "python",
   "name": "python3"
  },
  "language_info": {
   "codemirror_mode": {
    "name": "ipython",
    "version": 3
   },
   "file_extension": ".py",
   "mimetype": "text/x-python",
   "name": "python",
   "nbconvert_exporter": "python",
   "pygments_lexer": "ipython3",
   "version": "3.10.6"
  }
 },
 "nbformat": 4,
 "nbformat_minor": 5
}

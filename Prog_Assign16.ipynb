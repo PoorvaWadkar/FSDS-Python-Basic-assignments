{
 "cells": [
  {
   "cell_type": "markdown",
   "id": "0d51b1c7-ec77-42ee-9e1e-24d45cefab30",
   "metadata": {},
   "source": [
    "Question1. Write a function that stutters a word as if someone is struggling to read it. The\n",
    "first two letters are repeated twice with an ellipsis ... and space after each, and then the\n",
    "word is pronounced with a question mark ?.\n",
    "Examples\n",
    "stutter(incredible) ➞ in... in... incredible?\n",
    "stutter(enthusiastic&quot;) ➞ en... en... enthusiastic?\n",
    "stutter(outstanding) ➞ ou... ou... outstanding?\n",
    "\n",
    "Hint :- Assume all input is in lower case and at least two characters long."
   ]
  },
  {
   "cell_type": "code",
   "execution_count": 7,
   "id": "34f1587a-aa9f-42e0-b408-c72e7cc928ca",
   "metadata": {},
   "outputs": [
    {
     "name": "stdout",
     "output_type": "stream",
     "text": [
      "in... in... incredible?\n",
      "en... en... enthusiastic?\n",
      "ou... ou... outstanding?\n",
      "The word must be at least two characters long.\n"
     ]
    }
   ],
   "source": [
    "def stutter(word):\n",
    "    if len(word) >= 2:\n",
    "        first_two_letters = word[:2]\n",
    "        return f\"{first_two_letters}... {first_two_letters}... {word}?\"\n",
    "    else:\n",
    "        return \"The word must be at least two characters long.\"\n",
    "\n",
    "print(stutter(\"incredible\"))     \n",
    "print(stutter(\"enthusiastic\"))   \n",
    "print(stutter(\"outstanding\"))   \n",
    "print(stutter(\"h\"))   "
   ]
  },
  {
   "cell_type": "markdown",
   "id": "31f61416-3bf8-487e-ba38-902449026d28",
   "metadata": {},
   "source": [
    "Question 2.Create a function that takes an angle in radians and returns the corresponding\n",
    "angle in degrees rounded to one decimal place.\n",
    "Examples\n",
    "radians_to_degrees(1) ➞ 57.3\n",
    "radians_to_degrees(20) ➞ 1145.9\n",
    "radians_to_degrees(50) ➞ 2864.8"
   ]
  },
  {
   "cell_type": "code",
   "execution_count": 8,
   "id": "cfd41cf5-3194-4061-a98b-cca1a3300f8e",
   "metadata": {},
   "outputs": [
    {
     "name": "stdout",
     "output_type": "stream",
     "text": [
      "57.3\n",
      "1145.9\n",
      "2864.8\n"
     ]
    }
   ],
   "source": [
    "import math\n",
    "\n",
    "def radians_to_degrees(radians):\n",
    "    degrees = math.degrees(radians)\n",
    "    return round(degrees, 1)\n",
    "\n",
    "print(radians_to_degrees(1))   \n",
    "print(radians_to_degrees(20))  \n",
    "print(radians_to_degrees(50))  "
   ]
  },
  {
   "cell_type": "markdown",
   "id": "65ea7e6d-e74a-4c53-8886-a73c3fef7ee8",
   "metadata": {},
   "source": [
    "Question 3. In this challenge, establish if a given integer num is a Curzon number. If 1 plus\n",
    "2 elevated to num is exactly divisible by 1 plus 2 multiplied by num, then num is a Curzon\n",
    "number.\n",
    "Given a non-negative integer num, implement a function that returns True if num is a Curzon\n",
    "number, or False otherwise.\n",
    "Examples\n",
    "is_curzon(5) ➞ True\n",
    "2 ** 5 + 1 = 33\n",
    "2 * 5 + 1 = 11\n",
    "33 is a multiple of 11\n",
    "is_curzon(10) ➞ False\n",
    "2 ** 10 + 1 = 1025\n",
    "2 * 10 + 1 = 21\n",
    "1025 is not a multiple of 21\n",
    "is_curzon(14) ➞ True\n",
    "2 ** 14 + 1 = 16385\n",
    "2 * 14 + 1 = 29\n",
    "16385 is a multiple of 29"
   ]
  },
  {
   "cell_type": "code",
   "execution_count": 12,
   "id": "7d51f786-1e02-4cc6-a342-5a7ea1e23c54",
   "metadata": {},
   "outputs": [
    {
     "name": "stdout",
     "output_type": "stream",
     "text": [
      "True\n",
      "False\n",
      "True\n",
      "Please enter non-negative integer.\n"
     ]
    }
   ],
   "source": [
    "def is_curzon(num):\n",
    "    if num>-1:\n",
    "        numerator = 2 ** num + 1\n",
    "        denominator = 2 * num + 1\n",
    "        return numerator % denominator == 0\n",
    "    else:\n",
    "        return \"Please enter non-negative integer.\"\n",
    "\n",
    "print(is_curzon(5))   \n",
    "print(is_curzon(10))  \n",
    "print(is_curzon(14))  \n",
    "print(is_curzon(-5))  "
   ]
  },
  {
   "cell_type": "markdown",
   "id": "36e3f3fe-c5bd-46fb-952b-20d15ef488ec",
   "metadata": {},
   "source": [
    "Question 4.Given the side length x find the area of a hexagon.\n",
    "\n",
    "Examples\n",
    "area_of_hexagon(1) ➞ 2.6\n",
    "area_of_hexagon(2) ➞ 10.4\n",
    "area_of_hexagon(3) ➞ 23.4"
   ]
  },
  {
   "cell_type": "code",
   "execution_count": 18,
   "id": "eb2cb1aa-cebd-40e3-b81b-c9a16320f449",
   "metadata": {},
   "outputs": [
    {
     "name": "stdout",
     "output_type": "stream",
     "text": [
      "2.6\n",
      "10.4\n",
      "23.4\n"
     ]
    }
   ],
   "source": [
    "import math\n",
    "def area_of_hexagon(x):\n",
    "    area = (3 * math.sqrt(3) * x ** 2) / 2\n",
    "    return round(area, 1)\n",
    "\n",
    "print(area_of_hexagon(1)) \n",
    "print(area_of_hexagon(2))  \n",
    "print(area_of_hexagon(3))  "
   ]
  },
  {
   "cell_type": "markdown",
   "id": "4edcbd0d-0b21-427f-b32f-e544df1fd11b",
   "metadata": {},
   "source": [
    "Question 5. Create a function that returns a base-2 (binary) representation of a base-10\n",
    "(decimal) string number. To convert is simple: ((2) means base-2 and (10) means base-10)\n",
    "010101001(2) = 1 + 8 + 32 + 128.\n",
    "Going from right to left, the value of the most right bit is 1, now from that every bit to the left\n",
    "will be x2 the value, value of an 8 bit binary numbers are (256, 128, 64, 32, 16, 8, 4, 2, 1).\n",
    "Examples\n",
    "binary(1) ➞ \"1\";\n",
    "1*1 = 1\n",
    "binary(5) ➞ \"101\";\n",
    "1*1 + 1*4 = 5\n",
    "binary(10) ➞ \"1010\";\n",
    "1*2 + 1*8 = 10"
   ]
  },
  {
   "cell_type": "code",
   "execution_count": 19,
   "id": "3a5480f9-0af6-484a-8873-ca68090e1966",
   "metadata": {},
   "outputs": [
    {
     "name": "stdout",
     "output_type": "stream",
     "text": [
      "1\n",
      "101\n",
      "1010\n"
     ]
    }
   ],
   "source": [
    "def binary(decimal):\n",
    "    if decimal == 0:\n",
    "        return \"0\"\n",
    "\n",
    "    binary_str = \"\"\n",
    "    while decimal > 0:\n",
    "        remainder = decimal % 2\n",
    "        binary_str = str(remainder) + binary_str\n",
    "        decimal //= 2\n",
    "\n",
    "    return binary_str\n",
    "\n",
    "print(binary(1))  \n",
    "print(binary(5))   \n",
    "print(binary(10))  "
   ]
  },
  {
   "cell_type": "code",
   "execution_count": null,
   "id": "445fd4ca-77e5-4811-b3f6-ad63b5b22576",
   "metadata": {},
   "outputs": [],
   "source": []
  }
 ],
 "metadata": {
  "kernelspec": {
   "display_name": "Python 3 (ipykernel)",
   "language": "python",
   "name": "python3"
  },
  "language_info": {
   "codemirror_mode": {
    "name": "ipython",
    "version": 3
   },
   "file_extension": ".py",
   "mimetype": "text/x-python",
   "name": "python",
   "nbconvert_exporter": "python",
   "pygments_lexer": "ipython3",
   "version": "3.10.6"
  }
 },
 "nbformat": 4,
 "nbformat_minor": 5
}

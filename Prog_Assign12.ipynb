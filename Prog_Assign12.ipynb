{
 "cells": [
  {
   "cell_type": "code",
   "execution_count": null,
   "id": "41b338fa-015d-44c0-b23f-1cf6e4d6093a",
   "metadata": {},
   "outputs": [],
   "source": [
    "# 1. Write a Python program to Extract Unique values dictionary values?\n",
    "# 2. Write a Python program to find the sum of all items in a dictionary?\n",
    "# 3. Write a Python program to Merging two Dictionaries?\n",
    "# 4. Write a Python program to convert key-values list to flat dictionary?\n",
    "# 5. Write a Python program to insertion at the beginning in OrderedDict?\n",
    "# 6. Write a Python program to check order of character in string using OrderedDict()?\n",
    "# 7. Write a Python program to sort Python Dictionaries by Key or Value?"
   ]
  },
  {
   "cell_type": "code",
   "execution_count": 40,
   "id": "601d4bc9-17be-4647-a89f-b816491d2aa9",
   "metadata": {},
   "outputs": [],
   "source": [
    "# 1. Write a Python program to Extract Unique values dictionary values?"
   ]
  },
  {
   "cell_type": "code",
   "execution_count": 28,
   "id": "96830173-e17e-41f3-9712-0b986beb6847",
   "metadata": {},
   "outputs": [
    {
     "name": "stdout",
     "output_type": "stream",
     "text": [
      "[1, 2, 3, 4, 5, 6, 7, 8, 9, 10, 11]\n"
     ]
    }
   ],
   "source": [
    "def extract_Unique_values(sample_dict):\n",
    "    unique_list=set()\n",
    "    for value_list in sample_dict.values():      \n",
    "        for value in value_list:\n",
    "            unique_list.add(value)\n",
    "    return list(unique_list)\n",
    "        \n",
    "\n",
    "sample_dict={\n",
    "    \"1\":[1,2,3,4,5],\n",
    "    \"2\":[4,5,6,7,8],\n",
    "    \"3\":[7,8,9,10,11]\n",
    "}\n",
    "result=extract_Unique_values(sample_dict)\n",
    "print(result)"
   ]
  },
  {
   "cell_type": "code",
   "execution_count": null,
   "id": "8b71495b-2ca2-48e3-850e-fcaa6aad6c51",
   "metadata": {},
   "outputs": [],
   "source": [
    "# 2. Write a Python program to find the sum of all items in a dictionary?"
   ]
  },
  {
   "cell_type": "code",
   "execution_count": 30,
   "id": "3e4b868e-d7a8-4793-a97a-55a245c018c7",
   "metadata": {},
   "outputs": [
    {
     "name": "stdout",
     "output_type": "stream",
     "text": [
      "90\n"
     ]
    }
   ],
   "source": [
    "def sum_of_all_items(sample_dict):\n",
    "    total_sum=0\n",
    "    for list_values in sample_dict.values():\n",
    "        total_sum=total_sum+sum(list_values)\n",
    "    return total_sum\n",
    "    \n",
    "sample_dict={\n",
    "    \"1\":[1,2,3,4,5],\n",
    "    \"2\":[4,5,6,7,8],\n",
    "    \"3\":[7,8,9,10,11]\n",
    "}\n",
    "result=sum_of_all_items(sample_dict)\n",
    "print(result)"
   ]
  },
  {
   "cell_type": "code",
   "execution_count": null,
   "id": "2ebd4d05-8931-4c83-a544-c05405f3bc3f",
   "metadata": {},
   "outputs": [],
   "source": [
    "# 3. Write a Python program to Merging two Dictionaries?"
   ]
  },
  {
   "cell_type": "code",
   "execution_count": 36,
   "id": "bb79bb4a-ea5d-4dfb-8fad-8b47ac3c2208",
   "metadata": {},
   "outputs": [
    {
     "name": "stdout",
     "output_type": "stream",
     "text": [
      "Merged Dictionary: {'a': 1, 'b': 2, 'c': 3, 'd': 4}\n"
     ]
    }
   ],
   "source": [
    "def merge_dicts(dict1, dict2):\n",
    "    merged_dict=dict1.copy()\n",
    "    merged_dict.update(dict2)\n",
    "    return merged_dict\n",
    "\n",
    "dict1 = {'a': 1, 'b': 2}\n",
    "dict2 = {'c': 3, 'd': 4}\n",
    "\n",
    "result_dict = merge_dicts(dict1, dict2)\n",
    "print(\"Merged Dictionary:\", result_dict)"
   ]
  },
  {
   "cell_type": "code",
   "execution_count": null,
   "id": "6975f3f9-38e5-44a0-b8da-0aaeff85e95b",
   "metadata": {},
   "outputs": [],
   "source": [
    "# 4. Write a Python program to convert key-values list to flat dictionary?"
   ]
  },
  {
   "cell_type": "code",
   "execution_count": 38,
   "id": "5681482a-6f67-44e8-9b99-5a947f41671e",
   "metadata": {},
   "outputs": [
    {
     "name": "stdout",
     "output_type": "stream",
     "text": [
      "Flat Dictionary: {'a': 1, 'b': 2, 'c': 3, 'd': 4}\n"
     ]
    }
   ],
   "source": [
    "def convert_to_flat_dict(key_value_list):\n",
    "    flat_dict={}\n",
    "    for key, value in key_value_list:\n",
    "        flat_dict[key]=value\n",
    "    return flat_dict\n",
    "\n",
    "key_value_list = [('a', 1), ('b', 2), ('c', 3), ('d', 4)]\n",
    "\n",
    "result_dict = convert_to_flat_dict(key_value_list)\n",
    "print(\"Flat Dictionary:\", result_dict)"
   ]
  },
  {
   "cell_type": "code",
   "execution_count": null,
   "id": "56f7d06b-cda2-4228-aee3-3df88825fbb7",
   "metadata": {},
   "outputs": [],
   "source": [
    "# 5. Write a Python program to insertion at the beginning in OrderedDict?"
   ]
  },
  {
   "cell_type": "code",
   "execution_count": 47,
   "id": "af20df9d-b887-4593-bfb7-643e8e47cbac",
   "metadata": {},
   "outputs": [
    {
     "name": "stdout",
     "output_type": "stream",
     "text": [
      "Original OrderedDict: OrderedDict([('a', 1), ('b', 2), ('c', 3)])\n",
      "OrderedDict after insertion: OrderedDict([('d', 4), ('a', 1), ('b', 2), ('c', 3)])\n"
     ]
    }
   ],
   "source": [
    "from collections import OrderedDict\n",
    "\n",
    "def insert_at_beginning(odict, key, value):\n",
    "    odict[key] = value\n",
    "    odict.move_to_end(key, last=False)\n",
    "\n",
    "ordered_dict = OrderedDict([('a', 1), ('b', 2), ('c', 3)])\n",
    "\n",
    "print(\"Original OrderedDict:\", ordered_dict)\n",
    "\n",
    "insert_at_beginning(ordered_dict, 'd', 4)\n",
    "print(\"OrderedDict after insertion:\", ordered_dict)"
   ]
  },
  {
   "cell_type": "code",
   "execution_count": null,
   "id": "ecbaf195-f8d1-4881-af1f-b110d46514ad",
   "metadata": {},
   "outputs": [],
   "source": [
    "# 6. Write a Python program to check order of character in string using OrderedDict()?"
   ]
  },
  {
   "cell_type": "code",
   "execution_count": 59,
   "id": "e10f3457-dcbd-4a5f-8d20-ec25537c57ac",
   "metadata": {},
   "outputs": [
    {
     "name": "stdout",
     "output_type": "stream",
     "text": [
      "The pattern appears in the given string with the same order.\n"
     ]
    }
   ],
   "source": [
    "from collections import OrderedDict\n",
    "\n",
    "def check_order_of_characters(input_string, pattern):\n",
    "    j = 0\n",
    "\n",
    "    for char in input_string:\n",
    "        if char == pattern[j]:\n",
    "            j += 1\n",
    "        if j == len(pattern):\n",
    "            return True\n",
    "\n",
    "    return False\n",
    "\n",
    "string = \"Hello Poorva!\"\n",
    "pattern_to_check = \"lo\"\n",
    "\n",
    "result = check_order_of_characters(string, pattern_to_check)\n",
    "\n",
    "if result:\n",
    "    print(\"The pattern appears in the given string with the same order.\")\n",
    "else:\n",
    "    print(\"The pattern does not appear in the given string or appears with a different order.\")\n"
   ]
  },
  {
   "cell_type": "code",
   "execution_count": 63,
   "id": "11747ac2-30a0-48dd-9810-e9ee3dd1c0fd",
   "metadata": {},
   "outputs": [
    {
     "name": "stdout",
     "output_type": "stream",
     "text": [
      "The pattern does not appear in the given string or appears with a different order.\n"
     ]
    }
   ],
   "source": [
    "from collections import OrderedDict\n",
    "\n",
    "def check_order_of_characters(input_string, pattern):\n",
    "    j = 0\n",
    "\n",
    "    for char in input_string:\n",
    "        if char == pattern[j]:\n",
    "            j += 1\n",
    "        if j == len(pattern):\n",
    "            return True\n",
    "\n",
    "    return False\n",
    "\n",
    "string = \"Hello Poorva!\"\n",
    "pattern_to_check = \"Pl\"\n",
    "\n",
    "result = check_order_of_characters(string, pattern_to_check)\n",
    "\n",
    "if result:\n",
    "    print(\"The pattern appears in the given string with the same order.\")\n",
    "else:\n",
    "    print(\"The pattern does not appear in the given string or appears with a different order.\")"
   ]
  },
  {
   "cell_type": "code",
   "execution_count": null,
   "id": "3811d4f6-5ed8-4eba-acab-c2b45e1b00cc",
   "metadata": {},
   "outputs": [],
   "source": [
    "# 7. Write a Python program to sort Python Dictionaries by Key or Value?"
   ]
  },
  {
   "cell_type": "code",
   "execution_count": 64,
   "id": "3c36800d-6665-40cc-b5e7-0a43211679a7",
   "metadata": {},
   "outputs": [
    {
     "name": "stdout",
     "output_type": "stream",
     "text": [
      "Sorted by key: {'a': 2, 'b': 3, 'c': 1}\n",
      "Sorted by value: {'c': 1, 'a': 2, 'b': 3}\n"
     ]
    }
   ],
   "source": [
    "def sort_dict_by_key(input_dict):\n",
    "    sorted_dict = dict(sorted(input_dict.items()))\n",
    "    return sorted_dict\n",
    "\n",
    "def sort_dict_by_value(input_dict):\n",
    "    sorted_dict = dict(sorted(input_dict.items(), key=lambda item: item[1]))\n",
    "    return sorted_dict\n",
    "\n",
    "sample_dict = {'b': 3, 'c': 1, 'a': 2}\n",
    "\n",
    "# Sort by key\n",
    "sorted_by_key = sort_dict_by_key(sample_dict)\n",
    "print(\"Sorted by key:\", sorted_by_key)\n",
    "\n",
    "# Sort by value\n",
    "sorted_by_value = sort_dict_by_value(sample_dict)\n",
    "print(\"Sorted by value:\", sorted_by_value)\n"
   ]
  },
  {
   "cell_type": "code",
   "execution_count": null,
   "id": "8aea0a5b-f9c3-459e-9f7b-fc7fd7385b49",
   "metadata": {},
   "outputs": [],
   "source": []
  }
 ],
 "metadata": {
  "kernelspec": {
   "display_name": "Python 3 (ipykernel)",
   "language": "python",
   "name": "python3"
  },
  "language_info": {
   "codemirror_mode": {
    "name": "ipython",
    "version": 3
   },
   "file_extension": ".py",
   "mimetype": "text/x-python",
   "name": "python",
   "nbconvert_exporter": "python",
   "pygments_lexer": "ipython3",
   "version": "3.10.6"
  }
 },
 "nbformat": 4,
 "nbformat_minor": 5
}

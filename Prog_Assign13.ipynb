{
 "cells": [
  {
   "cell_type": "markdown",
   "id": "c4a27d56-91a7-49ed-83e3-5c470e1d4875",
   "metadata": {},
   "source": [
    "Question 1:\n",
    "Write a program that calculates and prints the value according to the given formula:\n",
    "Q = Square root of [(2 * C * D)/H]\n",
    "Following are the fixed values of C and H:\n",
    "C is 50. H is 30.\n",
    "D is the variable whose values should be input to your program in a comma-separated\n",
    "sequence.\n",
    "Example\n",
    "Let us assume the following comma separated input sequence is given to the program:\n",
    "100,150,180\n",
    "The output of the program should be:\n",
    "18,22,24"
   ]
  },
  {
   "cell_type": "code",
   "execution_count": 4,
   "id": "c33fc588-c40a-4399-994e-bb29b242f137",
   "metadata": {},
   "outputs": [
    {
     "name": "stdout",
     "output_type": "stream",
     "text": [
      "18,22,24\n"
     ]
    }
   ],
   "source": [
    "import math\n",
    "\n",
    "def calculate_values(input_sequence, C, H):\n",
    "    result = []\n",
    "    for D in input_sequence:\n",
    "        Q = math.sqrt((2 * C * int(D)) / H)\n",
    "        result.append(int(Q))\n",
    "    return result\n",
    "\n",
    "C = 50\n",
    "H = 30\n",
    "input_sequence = [100, 150, 180]\n",
    "\n",
    "output_sequence = calculate_values(input_sequence, C, H)\n",
    "print(\",\".join(str(val) for val in output_sequence))"
   ]
  },
  {
   "cell_type": "markdown",
   "id": "bbf3eb73-7d63-4822-9f50-4560d1a3e7c5",
   "metadata": {},
   "source": [
    "Question 2:\n",
    "Write a program which takes 2 digits, X,Y as input and generates a 2-dimensional array. The\n",
    "element value in the i-th row and j-th column of the array should be i*j.\n",
    "Note: i=0,1.., X-1; j=0,1,¡Y-1.\n",
    "Example\n",
    "Suppose the following inputs are given to the program:\n",
    "3,5\n",
    "Then, the output of the program should be:\n",
    "[[0, 0, 0, 0, 0], [0, 1, 2, 3, 4], [0, 2, 4, 6, 8]]"
   ]
  },
  {
   "cell_type": "code",
   "execution_count": 26,
   "id": "5e17de0c-eead-40e2-8ca7-b65eec1bbef8",
   "metadata": {},
   "outputs": [
    {
     "name": "stdout",
     "output_type": "stream",
     "text": [
      "[0, 0, 0, 0, 0]\n",
      "[0, 1, 2, 3, 4]\n",
      "[0, 2, 4, 6, 8]\n"
     ]
    }
   ],
   "source": [
    "def generate_2d_array(X, Y):\n",
    "    array_2d = [[i * j for j in range(Y)] for i in range(X)]\n",
    "    return array_2d\n",
    "\n",
    "X = 3\n",
    "Y = 5\n",
    "result_array = generate_2d_array(X, Y)\n",
    "\n",
    "for row in result_array:\n",
    "    print(row)"
   ]
  },
  {
   "cell_type": "markdown",
   "id": "6402fdb6-3a63-4955-b080-54e028e684b2",
   "metadata": {},
   "source": [
    "Question 3:\n",
    "Write a program that accepts a comma separated sequence of words as input and prints the\n",
    "words in a comma-separated sequence after sorting them alphabetically.\n",
    "Suppose the following input is supplied to the program:\n",
    "without,hello,bag,world\n",
    "Then, the output should be:\n",
    "bag,hello,without,world"
   ]
  },
  {
   "cell_type": "code",
   "execution_count": 28,
   "id": "655b67c3-7c9a-4de2-93fc-60ae2d3e7ade",
   "metadata": {},
   "outputs": [
    {
     "name": "stdout",
     "output_type": "stream",
     "text": [
      "bag,hello,without,world\n"
     ]
    }
   ],
   "source": [
    "def sort_words(input_sequence):\n",
    "    words_list = input_sequence.split(',')\n",
    "    sorted_words = sorted(words_list)\n",
    "    return ','.join(sorted_words)\n",
    "\n",
    "input_sequence = \"without,hello,bag,world\"\n",
    "\n",
    "output_sequence = sort_words(input_sequence)\n",
    "print(output_sequence)"
   ]
  },
  {
   "cell_type": "markdown",
   "id": "7405998b-6234-4821-9efd-0701e7a85bb3",
   "metadata": {},
   "source": [
    "Question 4:\n",
    "Write a program that accepts a sequence of whitespace separated words as input and prints\n",
    "the words after removing all duplicate words and sorting them alphanumerically.\n",
    "Suppose the following input is supplied to the program:\n",
    "hello world and practice makes perfect and hello world again\n",
    "Then, the output should be:\n",
    "again and hello makes perfect practice world"
   ]
  },
  {
   "cell_type": "code",
   "execution_count": 29,
   "id": "37ccc4c2-67d1-4df4-a5fa-2a65f3c2fae6",
   "metadata": {},
   "outputs": [
    {
     "name": "stdout",
     "output_type": "stream",
     "text": [
      "again and hello makes perfect practice world\n"
     ]
    }
   ],
   "source": [
    "def remove_duplicates_and_sort(input_sequence):\n",
    "    words_list = input_sequence.split()\n",
    "    unique_words = sorted(set(words_list))\n",
    "    return ' '.join(unique_words)\n",
    "\n",
    "input_sequence = \"hello world and practice makes perfect and hello world again\"\n",
    "\n",
    "output_sequence = remove_duplicates_and_sort(input_sequence)\n",
    "print(output_sequence)"
   ]
  },
  {
   "cell_type": "markdown",
   "id": "80f7a5c6-1785-410d-93ba-2ae119dfaf3a",
   "metadata": {},
   "source": [
    "Question 5:\n",
    "Write a program that accepts a sentence and calculate the number of letters and digits.\n",
    "Suppose the following input is supplied to the program:\n",
    "hello world! 123\n",
    "Then, the output should be:\n",
    "LETTERS 10\n",
    "DIGITS 3"
   ]
  },
  {
   "cell_type": "code",
   "execution_count": 49,
   "id": "72eda4cd-bbea-49fc-97ea-4729b0046350",
   "metadata": {},
   "outputs": [
    {
     "name": "stdout",
     "output_type": "stream",
     "text": [
      "LETTERS 10\n",
      "DIGITS 3\n"
     ]
    }
   ],
   "source": [
    "def count_letters_and_digits(sentence):\n",
    "    num_letters = sum(1 for char in sentence if char.isalpha())\n",
    "    num_digits = sum(1 for char in sentence if char.isdigit())\n",
    "    return num_letters, num_digits\n",
    "\n",
    "input_sentence = \"hello world! 123\"\n",
    "num_letters, num_digits = count_letters_and_digits(input_sentence)\n",
    "\n",
    "print(\"LETTERS\", num_letters)\n",
    "print(\"DIGITS\", num_digits)"
   ]
  },
  {
   "cell_type": "markdown",
   "id": "e2cb4773-d46e-4850-b384-af9bda2ce396",
   "metadata": {},
   "source": [
    "Question 6:\n",
    "A website requires the users to input username and password to register. Write a program to\n",
    "check the validity of password input by users.\n",
    "Following are the criteria for checking the password:\n",
    "1. At least 1 letter between [a-z]\n",
    "2. At least 1 number between [0-9]\n",
    "1. At least 1 letter between [A-Z]\n",
    "3. At least 1 character from [$#@]\n",
    "4. Minimum length of transaction password: 6\n",
    "5. Maximum length of transaction password: 12\n",
    "Your program should accept a sequence of comma separated passwords and will check them\n",
    "according to the above criteria. Passwords that match the criteria are to be printed, each\n",
    "separated by a comma.\n",
    "Example\n",
    "If the following passwords are given as input to the program:\n",
    "ABd1234@1,a F1#,2w3E*,2We3345\n",
    "Then, the output of the program should be:\n",
    "ABd1234@1"
   ]
  },
  {
   "cell_type": "code",
   "execution_count": 52,
   "id": "c56585b2-dda4-4cdb-83c6-2a0f13d98d0e",
   "metadata": {},
   "outputs": [
    {
     "name": "stdout",
     "output_type": "stream",
     "text": [
      "ABd1234@1\n"
     ]
    }
   ],
   "source": [
    "import re\n",
    "\n",
    "def is_valid_password(password):\n",
    "    if 6 <= len(password) <= 12:\n",
    "        if re.search(r\"[a-z]\", password) and re.search(r\"[A-Z]\", password) and re.search(r\"\\d\", password) and re.search(r\"[$#@]\", password):\n",
    "            return True\n",
    "    return False\n",
    "\n",
    "def check_valid_passwords(passwords):\n",
    "    valid_passwords = [password for password in passwords if is_valid_password(password)]\n",
    "    return valid_passwords\n",
    "\n",
    "input_passwords = \"ABd1234@1,a F1#,2w3E*,2We3345\"\n",
    "\n",
    "password_list = input_passwords.split(',')\n",
    "\n",
    "valid_passwords = check_valid_passwords(password_list)\n",
    "print(','.join(valid_passwords))\n"
   ]
  },
  {
   "cell_type": "code",
   "execution_count": null,
   "id": "b21a04a6-ce73-49f0-a89d-ca2c4f807954",
   "metadata": {},
   "outputs": [],
   "source": []
  }
 ],
 "metadata": {
  "kernelspec": {
   "display_name": "Python 3 (ipykernel)",
   "language": "python",
   "name": "python3"
  },
  "language_info": {
   "codemirror_mode": {
    "name": "ipython",
    "version": 3
   },
   "file_extension": ".py",
   "mimetype": "text/x-python",
   "name": "python",
   "nbconvert_exporter": "python",
   "pygments_lexer": "ipython3",
   "version": "3.10.6"
  }
 },
 "nbformat": 4,
 "nbformat_minor": 5
}

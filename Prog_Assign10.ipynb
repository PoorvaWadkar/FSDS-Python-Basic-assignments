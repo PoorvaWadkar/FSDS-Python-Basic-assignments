{
 "cells": [
  {
   "cell_type": "code",
   "execution_count": 1,
   "id": "4f53a1df-570f-4295-a04a-dd0ff6a036b9",
   "metadata": {},
   "outputs": [],
   "source": [
    "# 1. Write a Python program to find sum of elements in list?\n",
    "# 2. Write a Python program to Multiply all numbers in the list?\n",
    "# 3. Write a Python program to find smallest number in a list?\n",
    "# 4. Write a Python program to find largest number in a list?\n",
    "# 5. Write a Python program to find second largest number in a list?\n",
    "# 6. Write a Python program to find N largest elements from a list?\n",
    "# 7. Write a Python program to print even numbers in a list?\n",
    "# 8. Write a Python program to print odd numbers in a List?\n",
    "# 9. Write a Python program to Remove empty List from List?\n",
    "# 10. Write a Python program to Cloning or Copying a list?\n",
    "# 11. Write a Python program to Count occurrences of an element in a list?"
   ]
  },
  {
   "cell_type": "code",
   "execution_count": 1,
   "id": "36c2fff6-4cc8-426d-8ab0-ed24be75c741",
   "metadata": {},
   "outputs": [],
   "source": [
    "# 1. Write a Python program to find sum of elements in list?"
   ]
  },
  {
   "cell_type": "code",
   "execution_count": 10,
   "id": "7a97e75d-8b75-4673-8b52-e9eac5000050",
   "metadata": {},
   "outputs": [
    {
     "name": "stdout",
     "output_type": "stream",
     "text": [
      "Sum : 15\n"
     ]
    }
   ],
   "source": [
    "def sum(elements):\n",
    "    total=0\n",
    "    for i in elements:\n",
    "        total=total+i\n",
    "        #print(total)\n",
    "    return total\n",
    "    \n",
    "a=[1,2,3,4,5]\n",
    "result=sum(a)\n",
    "print(\"Sum :\",result)"
   ]
  },
  {
   "cell_type": "code",
   "execution_count": 11,
   "id": "ad44e166-6548-4aae-a4d6-b65bbffc9414",
   "metadata": {},
   "outputs": [],
   "source": [
    "# 2. Write a Python program to Multiply all numbers in the list?"
   ]
  },
  {
   "cell_type": "code",
   "execution_count": 50,
   "id": "f0abf831-fd26-49ba-b6a1-79026b638082",
   "metadata": {},
   "outputs": [
    {
     "name": "stdout",
     "output_type": "stream",
     "text": [
      "Multiplication : 120\n"
     ]
    }
   ],
   "source": [
    "def mul(elements):\n",
    "    total=1\n",
    "    for i in elements:\n",
    "        total=total*i\n",
    "        #print(total)\n",
    "    return total\n",
    "    \n",
    "a=[1,2,3,4,5]\n",
    "result=mul(a)\n",
    "print(\"Multiplication :\",result)"
   ]
  },
  {
   "cell_type": "code",
   "execution_count": 14,
   "id": "121cb674-6a32-4890-8405-ed5d2a7bc41c",
   "metadata": {},
   "outputs": [],
   "source": [
    " #3. Write a Python program to find smallest number in a list?"
   ]
  },
  {
   "cell_type": "code",
   "execution_count": 49,
   "id": "41fd7dd9-1afb-4fbb-8dfb-9481478f0735",
   "metadata": {},
   "outputs": [
    {
     "name": "stdout",
     "output_type": "stream",
     "text": [
      "Smallest number: 3\n"
     ]
    }
   ],
   "source": [
    "def smallest_number(numbers):\n",
    "    smallest = numbers[0]\n",
    "    for number in numbers:\n",
    "        if number < smallest:\n",
    "            smallest = number\n",
    "    return smallest\n",
    "\n",
    "\n",
    "a = [8, 100, 3, 66, 44]\n",
    "result =smallest_number(a)\n",
    "print(\"Smallest number:\", result)"
   ]
  },
  {
   "cell_type": "code",
   "execution_count": 31,
   "id": "b27b90df-2f84-484d-b7fe-3b1037e63240",
   "metadata": {},
   "outputs": [],
   "source": [
    "# 4. Write a Python program to find largest number in a list?"
   ]
  },
  {
   "cell_type": "code",
   "execution_count": 47,
   "id": "635e100c-81b6-4e68-9847-4bf5c5eee62a",
   "metadata": {},
   "outputs": [
    {
     "name": "stdout",
     "output_type": "stream",
     "text": [
      "Largest number: 100\n"
     ]
    }
   ],
   "source": [
    "def largest_number(numbers):\n",
    "    largest = numbers[0]\n",
    "    for number in numbers:\n",
    "        if number > largest:\n",
    "            largest = number\n",
    "    return largest\n",
    "\n",
    "\n",
    "a = [8, 100, 3, 0, 44]\n",
    "result =largest_number(a)\n",
    "print(\"Largest number:\", result)"
   ]
  },
  {
   "cell_type": "code",
   "execution_count": 51,
   "id": "0d390cdd-2521-4f1d-8585-7654be7662ef",
   "metadata": {},
   "outputs": [],
   "source": [
    "# 5. Write a Python program to find second largest number in a list?"
   ]
  },
  {
   "cell_type": "code",
   "execution_count": 62,
   "id": "5c4e340d-4648-4469-ab70-b71897562ed4",
   "metadata": {},
   "outputs": [
    {
     "name": "stdout",
     "output_type": "stream",
     "text": [
      "[0, 3, 8, 44, 100]\n",
      "Second largest number : 44\n"
     ]
    }
   ],
   "source": [
    "a = [8, 100, 3, 0, 44]\n",
    "for i in range(0,len(a)-1):\n",
    "    for j in range(i,len(a)):\n",
    "        if a[i] >a[j]:\n",
    "            temp=a[i]\n",
    "            a[i]=a[j]\n",
    "            a[j]=temp\n",
    "print(a)\n",
    "print(\"Second largest number :\",a[-2])\n"
   ]
  },
  {
   "cell_type": "code",
   "execution_count": 63,
   "id": "7629be22-425b-493c-8d37-eea0f6f5e16f",
   "metadata": {},
   "outputs": [],
   "source": [
    "# 6. Write a Python program to find N largest elements from a list?"
   ]
  },
  {
   "cell_type": "code",
   "execution_count": 66,
   "id": "4f6c4679-9dde-45d0-b43f-9af5e3f066c3",
   "metadata": {},
   "outputs": [
    {
     "name": "stdout",
     "output_type": "stream",
     "text": [
      "[0, 1, 3, 8, 36, 44, 55, 73, 100]\n",
      "N largest elements : [55, 73, 100]\n"
     ]
    }
   ],
   "source": [
    "a = [36,55,1,8, 100, 3, 0, 44,73]\n",
    "N=3\n",
    "for i in range(0,len(a)-1):\n",
    "    for j in range(i,len(a)):\n",
    "        if a[i] >a[j]:\n",
    "            temp=a[i]\n",
    "            a[i]=a[j]\n",
    "            a[j]=temp\n",
    "print(a)\n",
    "print(\"N largest elements :\",a[-N:])"
   ]
  },
  {
   "cell_type": "code",
   "execution_count": 67,
   "id": "375379be-f6c1-4c72-93f9-0855eedf2159",
   "metadata": {},
   "outputs": [],
   "source": [
    "# 7. Write a Python program to print even numbers in a list?"
   ]
  },
  {
   "cell_type": "code",
   "execution_count": 68,
   "id": "afef7664-e7ac-421b-a0e8-123893060f79",
   "metadata": {},
   "outputs": [
    {
     "name": "stdout",
     "output_type": "stream",
     "text": [
      "36\n",
      "8\n",
      "100\n",
      "0\n",
      "44\n"
     ]
    }
   ],
   "source": [
    "a = [36,55,1,8, 100, 3, 0, 44,73]\n",
    "for i in a:\n",
    "    if i%2==0:\n",
    "        print(i)"
   ]
  },
  {
   "cell_type": "code",
   "execution_count": 69,
   "id": "68870b30-736e-4997-9920-54b8fb07bcc6",
   "metadata": {},
   "outputs": [],
   "source": [
    "# 8. Write a Python program to print odd numbers in a List?"
   ]
  },
  {
   "cell_type": "code",
   "execution_count": 71,
   "id": "b9b07e82-9999-479c-89cd-30b7b2c44844",
   "metadata": {},
   "outputs": [
    {
     "name": "stdout",
     "output_type": "stream",
     "text": [
      "55\n",
      "1\n",
      "3\n",
      "73\n"
     ]
    }
   ],
   "source": [
    "a = [36,55,1,8, 100, 3, 0, 44,73]\n",
    "for i in a:\n",
    "    if i%2!=0:\n",
    "        print(i)"
   ]
  },
  {
   "cell_type": "code",
   "execution_count": 72,
   "id": "a6288ab8-1c83-47f5-81c2-7552926eb4ac",
   "metadata": {},
   "outputs": [],
   "source": [
    "# 9. Write a Python program to Remove empty List from List?"
   ]
  },
  {
   "cell_type": "code",
   "execution_count": 76,
   "id": "20c3f221-7cde-48f2-8129-9f7ff9f3baea",
   "metadata": {},
   "outputs": [
    {
     "name": "stdout",
     "output_type": "stream",
     "text": [
      "[36, [55, 1, 8], 100, 3, 0, [44, 7], 73]\n"
     ]
    }
   ],
   "source": [
    "a = [36,[55,1,8], 100, 3,[], 0, [44,7],73]\n",
    "for i in a:\n",
    "    if i == []:\n",
    "        a.remove(i)\n",
    "print(a)"
   ]
  },
  {
   "cell_type": "code",
   "execution_count": 77,
   "id": "989a3333-e1ea-40e0-96ac-64f667b0aa7f",
   "metadata": {},
   "outputs": [],
   "source": [
    "# 10. Write a Python program to Cloning or Copying a list?"
   ]
  },
  {
   "cell_type": "code",
   "execution_count": 79,
   "id": "e8f7206e-ab8b-4f61-acd7-f23fa9b8eac8",
   "metadata": {},
   "outputs": [
    {
     "name": "stdout",
     "output_type": "stream",
     "text": [
      "Old List:  [1, 2, 3, 4, 5]\n",
      "New List:  [1, 2, 3, 4, 5]\n"
     ]
    }
   ],
   "source": [
    "original_list = [1, 2, 3, 4, 5]\n",
    "copy_list = original_list\n",
    "print('Old List: ', original_list)\n",
    "print('New List: ', copy_list)"
   ]
  },
  {
   "cell_type": "code",
   "execution_count": 80,
   "id": "ecac089c-10a6-4db2-a2da-246ff0e76001",
   "metadata": {},
   "outputs": [
    {
     "name": "stdout",
     "output_type": "stream",
     "text": [
      "Old List:  [1, 2, 3, 4, 5]\n",
      "New List:  [1, 2, 3, 4, 5]\n"
     ]
    }
   ],
   "source": [
    "original_list = [1, 2, 3, 4, 5]\n",
    "copy_list = original_list.copy()\n",
    "print('Old List: ', original_list)\n",
    "print('New List: ', copy_list)"
   ]
  },
  {
   "cell_type": "code",
   "execution_count": 82,
   "id": "c1102c3a-8389-40bf-9be5-413ebd8c726e",
   "metadata": {},
   "outputs": [
    {
     "name": "stdout",
     "output_type": "stream",
     "text": [
      "Old List:  [1, 2, 3, 4, 5]\n",
      "New List:  [1, 2, 3, 4, 5]\n"
     ]
    }
   ],
   "source": [
    "import copy\n",
    "original_list =  [1, 2, 3, 4, 5]\n",
    "copy_list = copy.deepcopy(original_list)\n",
    "\n",
    "print('Old List: ', original_list)\n",
    "print('New List: ', copy_list)"
   ]
  },
  {
   "cell_type": "code",
   "execution_count": 83,
   "id": "4b3cedde-cec6-495a-a161-aa500a80bdf1",
   "metadata": {},
   "outputs": [],
   "source": [
    "# 11. Write a Python program to Count occurrences of an element in a list?"
   ]
  },
  {
   "cell_type": "code",
   "execution_count": 107,
   "id": "7c3cc25a-70c9-4c7f-aeeb-485729d6188f",
   "metadata": {},
   "outputs": [
    {
     "name": "stdout",
     "output_type": "stream",
     "text": [
      "Element 10 has occured total 5 times in a list\n"
     ]
    }
   ],
   "source": [
    "a = [2, 4, 10, 7, 9, 10,10, 12, 17, 10, 10, 1]\n",
    "x=10\n",
    "count=0\n",
    "for i in a:\n",
    "    if i==x:\n",
    "        count=count+1\n",
    "print(\"Element\",x,\"has occured total\",count,\"times in a list\")"
   ]
  },
  {
   "cell_type": "code",
   "execution_count": null,
   "id": "212a6c58-c07c-448c-93a4-f8754abaa27e",
   "metadata": {},
   "outputs": [],
   "source": []
  }
 ],
 "metadata": {
  "kernelspec": {
   "display_name": "Python 3 (ipykernel)",
   "language": "python",
   "name": "python3"
  },
  "language_info": {
   "codemirror_mode": {
    "name": "ipython",
    "version": 3
   },
   "file_extension": ".py",
   "mimetype": "text/x-python",
   "name": "python",
   "nbconvert_exporter": "python",
   "pygments_lexer": "ipython3",
   "version": "3.10.6"
  }
 },
 "nbformat": 4,
 "nbformat_minor": 5
}

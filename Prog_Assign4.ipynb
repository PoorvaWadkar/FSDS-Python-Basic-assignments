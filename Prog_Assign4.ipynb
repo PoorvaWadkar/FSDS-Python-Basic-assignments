{
 "cells": [
  {
   "cell_type": "code",
   "execution_count": null,
   "id": "159f12b8-e889-4826-9bc3-d98c18d99b83",
   "metadata": {},
   "outputs": [],
   "source": [
    "1. Write a Python Program to Find the Factorial of a Number?\n",
    "2. Write a Python Program to Display the multiplication Table?\n",
    "3. Write a Python Program to Print the Fibonacci sequence?\n",
    "4. Write a Python Program to Check Armstrong Number?\n",
    "5. Write a Python Program to Find Armstrong Number in an Interval?\n",
    "6. Write a Python Program to Find the Sum of Natural Numbers?"
   ]
  },
  {
   "cell_type": "code",
   "execution_count": 1,
   "id": "ee798ea4-3ecc-434f-940d-22fbd727e1b0",
   "metadata": {},
   "outputs": [],
   "source": [
    "#1. Write a Python Program to Find the Factorial of a Number?"
   ]
  },
  {
   "cell_type": "code",
   "execution_count": 9,
   "id": "26972941-9376-4ff2-a430-385614ec31ff",
   "metadata": {},
   "outputs": [
    {
     "name": "stdin",
     "output_type": "stream",
     "text": [
      "Enter a number : 5\n"
     ]
    },
    {
     "name": "stdout",
     "output_type": "stream",
     "text": [
      "120\n"
     ]
    }
   ],
   "source": [
    "f = 1\n",
    "n = int(input(\"Enter a number :\"))\n",
    "for i in range(1,n+1):\n",
    "    f = f*i\n",
    "print(f)"
   ]
  },
  {
   "cell_type": "code",
   "execution_count": 10,
   "id": "82d8669b-f3dc-4b0f-a79c-d4d47f3698b2",
   "metadata": {},
   "outputs": [],
   "source": [
    "#2. Write a Python Program to Display the multiplication Table?"
   ]
  },
  {
   "cell_type": "code",
   "execution_count": 15,
   "id": "9f719177-9e09-4014-a781-b6855b95c574",
   "metadata": {},
   "outputs": [
    {
     "name": "stdin",
     "output_type": "stream",
     "text": [
      "Enter a number 5\n"
     ]
    },
    {
     "name": "stdout",
     "output_type": "stream",
     "text": [
      "5 * 1 = 5\n",
      "5 * 2 = 10\n",
      "5 * 3 = 15\n",
      "5 * 4 = 20\n",
      "5 * 5 = 25\n",
      "5 * 6 = 30\n",
      "5 * 7 = 35\n",
      "5 * 8 = 40\n",
      "5 * 9 = 45\n",
      "5 * 10 = 50\n"
     ]
    }
   ],
   "source": [
    "n = int(input(\"Enter a number\"))\n",
    "for i in range(1,11):\n",
    "    print(\"{} * {} =\".format(n,i),i*n)"
   ]
  },
  {
   "cell_type": "code",
   "execution_count": 16,
   "id": "fec848b3-fca5-4c86-93eb-92560aaa0cd4",
   "metadata": {},
   "outputs": [],
   "source": [
    "#3. Write a Python Program to Print the Fibonacci sequence?"
   ]
  },
  {
   "cell_type": "code",
   "execution_count": 25,
   "id": "877ddacf-7cb1-416d-afc8-fb77f10bfbd5",
   "metadata": {},
   "outputs": [
    {
     "name": "stdin",
     "output_type": "stream",
     "text": [
      "Enter a number 5\n"
     ]
    },
    {
     "name": "stdout",
     "output_type": "stream",
     "text": [
      "0 1 1 2 3 5 8 "
     ]
    }
   ],
   "source": [
    "a=0\n",
    "b=1\n",
    "sum = 0\n",
    "n = int(input(\"Enter a number\"))\n",
    "print(a,end=\" \")\n",
    "print(b,end=\" \")\n",
    "\n",
    "for i in range(0,n):\n",
    "    c = a+b\n",
    "    print(c,end=\" \")\n",
    "    a=b\n",
    "    b=c    "
   ]
  },
  {
   "cell_type": "code",
   "execution_count": 26,
   "id": "0e8c5eb0-7673-4e11-a32d-dd8df90f74f2",
   "metadata": {},
   "outputs": [],
   "source": [
    "#4. Write a Python Program to Check Armstrong Number?"
   ]
  },
  {
   "cell_type": "code",
   "execution_count": 39,
   "id": "3d9a4a02-b03c-42ef-8246-4065dac84550",
   "metadata": {},
   "outputs": [
    {
     "name": "stdin",
     "output_type": "stream",
     "text": [
      "Enter a number 153\n"
     ]
    },
    {
     "name": "stdout",
     "output_type": "stream",
     "text": [
      "Sum of cube of digits: 153\n",
      "153 is an Armstrong number\n"
     ]
    }
   ],
   "source": [
    "#0, 1, 153, 370, 371 and 407 are the Armstrong numbers.\n",
    "sum = 0\n",
    "n = input(\"Enter a number\")\n",
    "for i in n:\n",
    "    sum = sum + int(i)**3\n",
    "print(\"Sum of cube of digits: {}\".format(sum))\n",
    "if sum == int(n):\n",
    "    print(\"{} is an Armstrong number\".format(n))\n",
    "else:\n",
    "    print(\"{} is not an Armstrong number\".format(n))"
   ]
  },
  {
   "cell_type": "code",
   "execution_count": 40,
   "id": "165c9905-9373-4d92-89f3-7089fb58d2bd",
   "metadata": {},
   "outputs": [
    {
     "name": "stdin",
     "output_type": "stream",
     "text": [
      "Enter a number 300\n"
     ]
    },
    {
     "name": "stdout",
     "output_type": "stream",
     "text": [
      "Sum of cube of digits: 27\n",
      "300 is not an Armstrong number\n"
     ]
    }
   ],
   "source": [
    "sum = 0\n",
    "n = input(\"Enter a number\")\n",
    "for i in n:\n",
    "    sum = sum + int(i)**3\n",
    "print(\"Sum of cube of digits: {}\".format(sum))\n",
    "if sum == int(n):\n",
    "    print(\"{} is an Armstrong number\".format(n))\n",
    "else:\n",
    "    print(\"{} is not an Armstrong number\".format(n))"
   ]
  },
  {
   "cell_type": "code",
   "execution_count": 41,
   "id": "1eb9031c-0669-41da-a891-77ea030919e4",
   "metadata": {},
   "outputs": [],
   "source": [
    "# 5. Write a Python Program to Find Armstrong Number in an Interval?"
   ]
  },
  {
   "cell_type": "code",
   "execution_count": 23,
   "id": "4cb3afa9-f21b-48c3-8d07-9aae30de1363",
   "metadata": {},
   "outputs": [
    {
     "name": "stdout",
     "output_type": "stream",
     "text": [
      "153 153\n",
      "370 370\n",
      "371 371\n",
      "407 407\n",
      "1634 1634\n"
     ]
    }
   ],
   "source": [
    "lower = 100\n",
    "higher = 2000\n",
    "\n",
    "for num in range(lower,higher+1):\n",
    "    sum = 0\n",
    "    order = len(str(num)) \n",
    "    s_num = str(num)  \n",
    "    \n",
    "    for i in s_num: \n",
    "        sum = sum + int(i)**order \n",
    "    if sum == num:\n",
    "        print(num,sum)       "
   ]
  },
  {
   "cell_type": "code",
   "execution_count": 24,
   "id": "db9d75f6-b40e-4472-97eb-d234bc4d5d29",
   "metadata": {},
   "outputs": [],
   "source": [
    "#6. Write a Python Program to Find the Sum of Natural Numbers?"
   ]
  },
  {
   "cell_type": "code",
   "execution_count": 31,
   "id": "be793cba-5880-4e23-a0bd-4116f8d4d3ce",
   "metadata": {},
   "outputs": [
    {
     "name": "stdin",
     "output_type": "stream",
     "text": [
      "Enter a number 10\n"
     ]
    },
    {
     "name": "stdout",
     "output_type": "stream",
     "text": [
      "Sum of natural numbers till 10 is 55\n"
     ]
    }
   ],
   "source": [
    "sum = 0\n",
    "n = int(input(\"Enter a number\"))\n",
    "for i in range(1,n+1):\n",
    "    sum = sum + i\n",
    "print(\"Sum of natural numbers till {} is {}\".format(n,sum))"
   ]
  },
  {
   "cell_type": "code",
   "execution_count": null,
   "id": "26907e66-2dbf-4a51-8d19-cc598c3cf2e6",
   "metadata": {},
   "outputs": [],
   "source": []
  }
 ],
 "metadata": {
  "kernelspec": {
   "display_name": "Python 3 (ipykernel)",
   "language": "python",
   "name": "python3"
  },
  "language_info": {
   "codemirror_mode": {
    "name": "ipython",
    "version": 3
   },
   "file_extension": ".py",
   "mimetype": "text/x-python",
   "name": "python",
   "nbconvert_exporter": "python",
   "pygments_lexer": "ipython3",
   "version": "3.10.6"
  }
 },
 "nbformat": 4,
 "nbformat_minor": 5
}

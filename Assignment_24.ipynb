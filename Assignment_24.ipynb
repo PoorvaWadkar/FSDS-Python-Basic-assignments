{
 "cells": [
  {
   "cell_type": "markdown",
   "id": "545f648b-056e-40cd-8278-a87dc97c4d78",
   "metadata": {},
   "source": [
    "1.What is the relationship between def statements and lambda expressions?\n",
    "\n",
    "Both def statements and lambda expressions are ways to define functions in Python.\n",
    "\n",
    "def statement:\n",
    "\n",
    "•\tA def statement is used to define a regular, named function. It starts with the def keyword followed by the function name, a set of parentheses for parameters, a colon, and then the function body indented below. \n",
    "\n",
    "•\tdef statement has a proper name that can be used to call the function from anywhere in code.\n",
    "\n",
    "•\tIt allows to define complex functions with multiple statements, loops, conditionals, and more.\n",
    "\n",
    "•\tIt can have docstrings to provide detailed documentation for the function's purpose, parameters, and usage.\n",
    "\n",
    "Lambda expression: \n",
    "\n",
    "•\tA lambda expression is a compact way to define small, anonymous functions.\n",
    "\n",
    "•\tIt uses the lambda keyword followed by parameters (without parentheses), a colon, and the expression to be returned.\n",
    "\n",
    "•\tA lambda expression creates an anonymous function. While we can assign the lambda expression to a variable it doesn't have a formal name. \n",
    "\n",
    "•\tLambda expressions are meant for simple, one-liner functions. They are best suited for cases where a quick, concise function is needed, especially as an argument to higher-order functions like map, filter, and sorted.\n",
    "\n",
    "•\tLambdas are limited in terms of adding comments  which can affect code readability especially for more complex operations.\n"
   ]
  },
  {
   "cell_type": "markdown",
   "id": "19b0b0bc-376e-4294-9c6a-dcf79fe6c4a9",
   "metadata": {},
   "source": [
    "2.What is the benefit of lambda?\n",
    "\n",
    "•\tLambda expressions are very compact and allow you to define functions in a single line of code. This can lead to more readable and expressive code, especially when the function logic is straightforward.\n",
    "\n",
    "•\tLambda expressions create anonymous functions, which means you don't need to provide a formal name for functions that are only used in a specific context or for a short duration.\n",
    "\n",
    "•\tWhen used appropriately, lambda expressions can improve code readability by keeping the function logic close to its usage, especially when used as arguments in higher-order functions like map, filter, and sorted.\n",
    "\n",
    "•\tyou can pass them around like any other value. This facilitates the creation of more flexible and modular code.\n"
   ]
  },
  {
   "cell_type": "markdown",
   "id": "19370182-b1ab-4b42-8ee5-0d8a544251d0",
   "metadata": {},
   "source": [
    "3.Compare and contrast map, filter, and reduce.\n",
    "\n",
    "map, filter, and reduce are three built-in higher-order functions in Python that operate on sequences (lists, tuples, etc.). They all take a function as their first argument and apply it to each element of the input sequence in a certain way.\n",
    "\n",
    "a) map Function:\n",
    "    \n",
    "Purpose: The map function applies a given function to each item in an iterable (e.g., list) and returns an iterator with the results.\n",
    "\n",
    "Usage: map(function, iterable)\n"
   ]
  },
  {
   "cell_type": "code",
   "execution_count": null,
   "id": "2ee0b4dc-f498-4667-806a-5cb998bc7b8b",
   "metadata": {},
   "outputs": [],
   "source": [
    "#Example:\n",
    "    \n",
    "# numbers = [1,2, 3, 4, 5]\n",
    "# squared = map(lambda x: x**2, numbers)\n",
    "# Result: squared is an iterator containing [1, 4, 9, 16, 25]"
   ]
  },
  {
   "cell_type": "markdown",
   "id": "486a0a46-78e2-470d-b1cf-aec73c664349",
   "metadata": {},
   "source": [
    "b) filter Function:\n",
    "    \n",
    "Purpose: The filter function applies a given function to each item in an iterable and returns an iterator containing only the items for which the function evaluates to True.\n",
    "\n",
    "Usage: filter(function, iterable)\n"
   ]
  },
  {
   "cell_type": "code",
   "execution_count": null,
   "id": "54cf3ae1-fe09-4058-9ff7-04c9c680dbd5",
   "metadata": {},
   "outputs": [],
   "source": [
    "# Example:\n",
    "    \n",
    "# numbers = [1, 2, 3, 4, 5, 6]\n",
    "# evens = filter(lambda x: x % 2 == 0, numbers)\n",
    "#Result: evens is an iterator containing [2, 4, 6]"
   ]
  },
  {
   "cell_type": "markdown",
   "id": "5b430992-cdd3-41f5-a0a7-d575a02080ce",
   "metadata": {},
   "source": [
    "c) reduce Function:\n",
    "    \n",
    "Purpose: The reduce function applies a given function to the elements of an iterable in a cumulative way, reducing the iterable to a single value.\n",
    "\n",
    "Usage: functools.reduce(function, iterable[, initializer])\n"
   ]
  },
  {
   "cell_type": "code",
   "execution_count": null,
   "id": "1c6e788f-bf61-4b85-8880-545da203eb64",
   "metadata": {},
   "outputs": [],
   "source": [
    "# Example:\n",
    "    \n",
    "# from functools import reduce\n",
    "# numbers = [1, 2, 3, 4, 5]\n",
    "# product = reduce(lambda x, y: x * y, numbers)\n",
    "#Result: product is 120 (1 * 2 * 3 * 4 * 5)\n"
   ]
  },
  {
   "cell_type": "markdown",
   "id": "3b71e89e-c578-4137-91aa-f7291bbb33ca",
   "metadata": {},
   "source": [
    "4.What are function annotations and how are they used?\n",
    "•\tFunction annotations in Python are a way to attach metadata or additional information to the parameters and return values of a function.\n",
    "\n",
    "•\tThey allow to provide hints about the expected types, purposes, or behavior of the function's inputs and outputs. Function annotations do not affect the actual behavior of the function they are primarily meant for documentation and to provide information to tools and external libraries.\n",
    "\n",
    "•\tThey are specified using colons (:) after the parameter name (for input annotations) or after the closing parentheses (for return value annotations), followed by the annotation expression. \n",
    "\n",
    "def add(a: int, b: int) -> int:\n",
    "\n",
    "    return a + b\n",
    "    \n",
    "In this example, the annotations indicate that the a and b parameters are expected to be integers, and the function is expected to return an integer.\n"
   ]
  },
  {
   "cell_type": "markdown",
   "id": "2bef02e9-53f6-45f5-931c-0be9ce9e26be",
   "metadata": {},
   "source": [
    "5.What are recursive functions and how are they used?\n",
    "\n",
    "Recursion is a technique used to solve computer problems by creating a function that calls itself until program achieves the desired result.\n"
   ]
  },
  {
   "cell_type": "code",
   "execution_count": 3,
   "id": "abd7ca71-3c61-4b98-a8ef-274e6ecb5dd8",
   "metadata": {},
   "outputs": [
    {
     "name": "stdout",
     "output_type": "stream",
     "text": [
      "The factorial of 3 is 6\n"
     ]
    }
   ],
   "source": [
    "def factorial(x):\n",
    "    if x == 1:\n",
    "        return 1\n",
    "    else:\n",
    "        return (x * factorial(x-1))\n",
    "num = 3\n",
    "print(\"The factorial of\", num, \"is\", factorial(num))\n",
    "#Here factorial() is a recursive function as it calls itself."
   ]
  },
  {
   "cell_type": "markdown",
   "id": "4f3e9fa0-a9e1-42a3-8703-bb60f9c98e00",
   "metadata": {},
   "source": [
    "6.What are some general design guidelines for coding functions?\n",
    "\n",
    "•\tA function should have a clear and single purpose. It should ideally perform one task or solve one problem. This makes functions easier to understand, test, and maintain.\n",
    "\n",
    "•\tFunctions should have a meaningful and descriptive names that convey their purpose and functionality. \n",
    "\n",
    "•\tBreak down complex tasks into smaller, modular functions. Each function should handle a specific part of the task, promoting code reuse and maintainability.\n",
    "\n",
    "•\tHide implementation details and expose only necessary information through function parameters and return values. \n",
    "\n",
    "•\tKeep the number of parameters reasonable. Too many parameters can make a function harder to use and understand. \n",
    "\n",
    "•\tFunctions should be designed to work with local data rather than relying heavily on global variables. This improves encapsulation and makes the function more self-contained.\n",
    "\n",
    "•\tProvide clear and concise documentation for your functions. Use docstrings to describe the purpose, parameters, and return values of the function. \n",
    "\n",
    "•\t Use exceptions or error codes to indicate problems, and provide informative error messages that aid in debugging.\n"
   ]
  },
  {
   "cell_type": "markdown",
   "id": "a723a5e9-8d38-410c-b575-09e332000c1e",
   "metadata": {},
   "source": [
    "7.Name three or more ways that functions can communicate results to a caller.\n",
    "\n",
    "•\tReturn Values: Functions often use return values to communicate results back to the caller. A return value is the data or value that a function produces and hands back to the code that called it.\n",
    "\n",
    "•\tModifying Mutable Objects: Functions can modify mutable objects (like lists or dictionaries) that are passed to them as arguments. While this doesn't involve a traditional return value, it allows the function to change the state of an object in a way that's visible to the caller.\n",
    "\n",
    "•\tGlobal Variables: While not always recommended due to potential issues with code organization and maintainability, functions can communicate results by modifying global variables. Global variables are accessible to all functions in a module, so changes made by one function are visible to others.\n",
    "\n",
    "•\tPrint Statements: Although not the most common way to communicate results, functions can print information directly to the console using print() statements. This approach is often used for debugging purposes or for providing visual feedback during the execution of a program.\n"
   ]
  }
 ],
 "metadata": {
  "kernelspec": {
   "display_name": "Python 3 (ipykernel)",
   "language": "python",
   "name": "python3"
  },
  "language_info": {
   "codemirror_mode": {
    "name": "ipython",
    "version": 3
   },
   "file_extension": ".py",
   "mimetype": "text/x-python",
   "name": "python",
   "nbconvert_exporter": "python",
   "pygments_lexer": "ipython3",
   "version": "3.10.6"
  }
 },
 "nbformat": 4,
 "nbformat_minor": 5
}

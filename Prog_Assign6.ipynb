{
 "cells": [
  {
   "cell_type": "code",
   "execution_count": 1,
   "id": "23bda754-ac40-41d8-8e71-fb5b7fd396c2",
   "metadata": {},
   "outputs": [],
   "source": [
    "# 1.\tWrite a Python Program to Display Fibonacci Sequence Using Recursion?\n",
    "# 2.\tWrite a Python Program to Find Factorial of Number Using Recursion?\n",
    "# 3.\tWrite a Python Program to calculate your Body Mass Index?\n",
    "# 4.\tWrite a Python Program to calculate the natural logarithm of any number?\n",
    "# 5.\tWrite a Python Program for cube sum of first n natural numbers?\n"
   ]
  },
  {
   "cell_type": "code",
   "execution_count": 2,
   "id": "50000180-3d9d-457d-a5bf-1bca480a1d95",
   "metadata": {},
   "outputs": [],
   "source": [
    "# 1.\tWrite a Python Program to Display Fibonacci Sequence Using Recursion?"
   ]
  },
  {
   "cell_type": "code",
   "execution_count": 10,
   "id": "80e4dbe6-25a0-4061-bcdb-7070bcd7800b",
   "metadata": {},
   "outputs": [
    {
     "name": "stdin",
     "output_type": "stream",
     "text": [
      "Enter a number of terms you want to print 8\n"
     ]
    },
    {
     "name": "stdout",
     "output_type": "stream",
     "text": [
      "Fibonacci series:\n",
      "0 1 1 2 3 5 8 13 "
     ]
    }
   ],
   "source": [
    "def recursive_fibonacci(n):\n",
    "    if n <= 1:\n",
    "        return n\n",
    "    else:\n",
    "        return(recursive_fibonacci(n-1) + recursive_fibonacci(n-2))\n",
    "    \n",
    "n_terms = int(input(\"Enter a number of terms you want to print\"))\n",
    "\n",
    "if n_terms <= 0:\n",
    "    print(\"Invalid Input. Please input positive value\")\n",
    "else:\n",
    "    print(\"Fibonacci series:\")\n",
    "for i in range(n_terms):\n",
    "    print(recursive_fibonacci(i),end=\"\")\n",
    "    print(\" \",end=\"\")"
   ]
  },
  {
   "cell_type": "code",
   "execution_count": 4,
   "id": "538768cb-b425-4857-9627-7228fac2a0e7",
   "metadata": {},
   "outputs": [],
   "source": [
    "# 2.\tWrite a Python Program to Find Factorial of Number Using Recursion?"
   ]
  },
  {
   "cell_type": "code",
   "execution_count": 8,
   "id": "d234992d-b9d6-4465-a4c4-a59a98cd2f3c",
   "metadata": {},
   "outputs": [
    {
     "name": "stdin",
     "output_type": "stream",
     "text": [
      "Enter a number : 5\n"
     ]
    },
    {
     "name": "stdout",
     "output_type": "stream",
     "text": [
      "Factorial :  120\n"
     ]
    }
   ],
   "source": [
    "def factorial(n):  \n",
    "    if (n==1 or n==0):\n",
    "        return 1\n",
    "    else:\n",
    "        return (n * factorial(n - 1))  \n",
    "    \n",
    "n = int(input(\"Enter a number :\"))\n",
    "print(\"Factorial : \",factorial(n))"
   ]
  },
  {
   "cell_type": "code",
   "execution_count": 13,
   "id": "420cecd5-1c92-474a-a6f7-159e8a0ef657",
   "metadata": {},
   "outputs": [],
   "source": [
    "# 3.\tWrite a Python Program to calculate your Body Mass Index?"
   ]
  },
  {
   "cell_type": "code",
   "execution_count": 20,
   "id": "dc597ef8-0633-476c-a8a8-fab7f1b5721d",
   "metadata": {},
   "outputs": [
    {
     "name": "stdin",
     "output_type": "stream",
     "text": [
      "Enter height: 1.79832\n",
      "Enter weight: 70\n"
     ]
    },
    {
     "name": "stdout",
     "output_type": "stream",
     "text": [
      "21.64532402096181\n"
     ]
    }
   ],
   "source": [
    "def BMI(height, weight):\n",
    "    bmi = weight/(height**2)\n",
    "    return bmi\n",
    "\n",
    "height = float(input(\"Enter height:\"))\n",
    "weight = float(input(\"Enter weight:\"))\n",
    "\n",
    "print(BMI(height,weight))\n"
   ]
  },
  {
   "cell_type": "code",
   "execution_count": 21,
   "id": "7380dfdc-c681-4ab6-a744-aff1f7c840dd",
   "metadata": {},
   "outputs": [],
   "source": [
    "# 4.\tWrite a Python Program to calculate the natural logarithm of any number?"
   ]
  },
  {
   "cell_type": "code",
   "execution_count": 1,
   "id": "e0769217-3610-44d1-bf88-c241bbb5e129",
   "metadata": {},
   "outputs": [
    {
     "name": "stdin",
     "output_type": "stream",
     "text": [
      "Enter the number:  5\n"
     ]
    },
    {
     "name": "stdout",
     "output_type": "stream",
     "text": [
      "The value is: 1.6094379124341003\n"
     ]
    }
   ],
   "source": [
    "import math\n",
    "\n",
    "number = int(input(\"Enter the number: \"))\n",
    "\n",
    "ans = math.log(number)\n",
    "\n",
    "print(\"The value is:\",ans)"
   ]
  },
  {
   "cell_type": "code",
   "execution_count": 22,
   "id": "3ae66524-d317-4c46-aedc-124a97373164",
   "metadata": {},
   "outputs": [],
   "source": [
    "# 5.\tWrite a Python Program for cube sum of first n natural numbers?"
   ]
  },
  {
   "cell_type": "code",
   "execution_count": 5,
   "id": "fc4d31bf-d6f7-4e3c-b665-7be922b49b2c",
   "metadata": {},
   "outputs": [
    {
     "name": "stdin",
     "output_type": "stream",
     "text": [
      "Enter the value of n:  5\n"
     ]
    },
    {
     "name": "stdout",
     "output_type": "stream",
     "text": [
      "225\n"
     ]
    }
   ],
   "source": [
    "n = int(input(\"Enter the value of n: \"))\n",
    "if n <=0:\n",
    "    print(\"Invalid input. Please enter natural number.\")\n",
    "else:    \n",
    "    cube_sum=0\n",
    "    for i in range(1,n+1):    \n",
    "        cube_sum = cube_sum + pow(i,3)\n",
    "    print(cube_sum)"
   ]
  },
  {
   "cell_type": "code",
   "execution_count": 6,
   "id": "090fc79e-92dc-453f-9caa-710ee7dfc061",
   "metadata": {},
   "outputs": [
    {
     "name": "stdin",
     "output_type": "stream",
     "text": [
      "Enter the value of n:  0\n"
     ]
    },
    {
     "name": "stdout",
     "output_type": "stream",
     "text": [
      "Invalid input. Please enter natural number.\n"
     ]
    }
   ],
   "source": [
    "n = int(input(\"Enter the value of n: \"))\n",
    "if n <=0:\n",
    "    print(\"Invalid input. Please enter natural number.\")\n",
    "else:    \n",
    "    cube_sum=0\n",
    "    for i in range(1,n+1):    \n",
    "        cube_sum = cube_sum + pow(i,3)\n",
    "    print(cube_sum)"
   ]
  },
  {
   "cell_type": "code",
   "execution_count": null,
   "id": "7c71d2a0-d519-4dad-baa0-d04f5a164583",
   "metadata": {},
   "outputs": [],
   "source": []
  }
 ],
 "metadata": {
  "kernelspec": {
   "display_name": "Python 3 (ipykernel)",
   "language": "python",
   "name": "python3"
  },
  "language_info": {
   "codemirror_mode": {
    "name": "ipython",
    "version": 3
   },
   "file_extension": ".py",
   "mimetype": "text/x-python",
   "name": "python",
   "nbconvert_exporter": "python",
   "pygments_lexer": "ipython3",
   "version": "3.10.6"
  }
 },
 "nbformat": 4,
 "nbformat_minor": 5
}

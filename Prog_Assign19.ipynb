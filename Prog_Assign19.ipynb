{
 "cells": [
  {
   "cell_type": "markdown",
   "id": "45c4e5b0-c0d8-4aa7-a922-d00f0e59b372",
   "metadata": {},
   "source": [
    "Question1\n",
    "Create a function that takes a string and returns a string in which each character is repeated\n",
    "once.\n",
    "Examples\n",
    "double_char(String) ➞ SSttrriinngg\n",
    "double_char(Hello World!) ➞ HHeelllloo WWoorrlldd!!\n",
    "double_char(1234!) ➞ 11223344!!"
   ]
  },
  {
   "cell_type": "code",
   "execution_count": 1,
   "id": "8dbbce24-4db5-41cd-b5b3-06c430a884fc",
   "metadata": {},
   "outputs": [
    {
     "name": "stdout",
     "output_type": "stream",
     "text": [
      "SSttrriinngg\n",
      "HHeelllloo  WWoorrlldd!!\n",
      "11223344!!\n"
     ]
    }
   ],
   "source": [
    "def double_char(input_string):\n",
    "    return ''.join(char * 2 for char in input_string)\n",
    "\n",
    "print(double_char(\"String\"))         \n",
    "print(double_char(\"Hello World!\"))   \n",
    "print(double_char(\"1234!\"))          "
   ]
  },
  {
   "cell_type": "markdown",
   "id": "43589524-9148-4860-b897-3ccc2e6acf23",
   "metadata": {},
   "source": [
    "Question2\n",
    "Create a function that reverses a boolean value and returns the string boolean expected\n",
    "if another variable type is given.\n",
    "Examples\n",
    "reverse(True) ➞ False\n",
    "reverse(False) ➞ True\n",
    "reverse(0) ➞ boolean expected\n",
    "reverse(None) ➞ boolean expected"
   ]
  },
  {
   "cell_type": "code",
   "execution_count": 2,
   "id": "c7b5fd05-8b95-42ce-aaef-28db3e9546cf",
   "metadata": {},
   "outputs": [
    {
     "name": "stdout",
     "output_type": "stream",
     "text": [
      "False\n",
      "True\n",
      "boolean expected\n",
      "boolean expected\n"
     ]
    }
   ],
   "source": [
    "def reverse(value):\n",
    "    if isinstance(value, bool):\n",
    "        return not value\n",
    "    else:\n",
    "        return \"boolean expected\"\n",
    "\n",
    "print(reverse(True))    \n",
    "print(reverse(False))   \n",
    "print(reverse(0))       \n",
    "print(reverse(None))    "
   ]
  },
  {
   "cell_type": "markdown",
   "id": "977af938-00fc-40df-a91e-d1839f181d05",
   "metadata": {},
   "source": [
    "Question3\n",
    "Create a function that returns the thickness (in meters) of a piece of paper after folding it n\n",
    "number of times. The paper starts off with a thickness of 0.5mm.\n",
    "Examples\n",
    "num_layers(1) ➞ 0.001m\n",
    "Paper folded once is 1mm (equal to 0.001m)\n",
    "num_layers(4) ➞ 0.008m\n",
    "Paper folded 4 times is 8mm (equal to 0.008m)\n",
    "num_layers(21) ➞ 1048.576m\n",
    "Paper folded 21 times is 1048576mm (equal to 1048.576m)"
   ]
  },
  {
   "cell_type": "code",
   "execution_count": 4,
   "id": "d6397829-db75-48c0-862d-7c36b2666ba5",
   "metadata": {},
   "outputs": [
    {
     "name": "stdout",
     "output_type": "stream",
     "text": [
      "0.001\n",
      "0.008\n",
      "1048.576\n"
     ]
    }
   ],
   "source": [
    "def num_layers(n):\n",
    "    initial_thickness_mm = 0.5\n",
    "    fold_factor = 2\n",
    "\n",
    "    initial_thickness_m = initial_thickness_mm / 1000\n",
    "\n",
    "    final_thickness_m = initial_thickness_m * (fold_factor ** n)\n",
    "\n",
    "    return final_thickness_m\n",
    "\n",
    "print(num_layers(1))    \n",
    "print(num_layers(4))    \n",
    "print(num_layers(21))   "
   ]
  },
  {
   "cell_type": "markdown",
   "id": "b3ed33f5-34e0-4285-ad1f-604c6a2596d3",
   "metadata": {},
   "source": [
    "Question4\n",
    "Create a function that takes a single string as argument and returns an ordered list containing\n",
    "the indices of all capital letters in the string.\n",
    "Examples\n",
    "index_of_caps(eDaBiT) ➞ [1, 3, 5]\n",
    "index_of_caps(eQuINoX) ➞ [1, 3, 4, 6]\n",
    "index_of_caps(determine) ➞ []\n",
    "index_of_caps(STRIKE) ➞ [0, 1, 2, 3, 4, 5]\n",
    "index_of_caps(sUn) ➞ [1]"
   ]
  },
  {
   "cell_type": "code",
   "execution_count": 5,
   "id": "e6f272e2-a62d-4891-bdfd-3713bbf40ae1",
   "metadata": {},
   "outputs": [
    {
     "name": "stdout",
     "output_type": "stream",
     "text": [
      "[1, 3, 5]\n",
      "[1, 3, 4, 6]\n",
      "[]\n",
      "[0, 1, 2, 3, 4, 5]\n",
      "[1]\n"
     ]
    }
   ],
   "source": [
    "def index_of_caps(s):\n",
    "    return [index for index, char in enumerate(s) if char.isupper()]\n",
    "\n",
    "print(index_of_caps(\"eDaBiT\"))      \n",
    "print(index_of_caps(\"eQuINoX\"))     \n",
    "print(index_of_caps(\"determine\"))   \n",
    "print(index_of_caps(\"STRIKE\"))      \n",
    "print(index_of_caps(\"sUn\"))         "
   ]
  },
  {
   "cell_type": "markdown",
   "id": "67565bb6-4de1-419b-b5b1-c4f0f4dd4408",
   "metadata": {},
   "source": [
    "Question5\n",
    "Using list comprehensions, create a function that finds all even numbers from 1 to the given\n",
    "number.\n",
    "Examples\n",
    "find_even_nums(8) ➞ [2, 4, 6, 8]\n",
    "find_even_nums(4) ➞ [2, 4]\n",
    "find_even_nums(2) ➞ [2]"
   ]
  },
  {
   "cell_type": "code",
   "execution_count": 6,
   "id": "6f5c3057-149a-4e5e-90a7-79c0b38d101c",
   "metadata": {},
   "outputs": [
    {
     "name": "stdout",
     "output_type": "stream",
     "text": [
      "[2, 4, 6, 8]\n",
      "[2, 4]\n",
      "[2]\n"
     ]
    }
   ],
   "source": [
    "def find_even_nums(n):\n",
    "    return [num for num in range(1, n+1) if num % 2 == 0]\n",
    "\n",
    "print(find_even_nums(8))   \n",
    "print(find_even_nums(4))   \n",
    "print(find_even_nums(2))   "
   ]
  },
  {
   "cell_type": "code",
   "execution_count": null,
   "id": "7e341ee4-b558-4217-b80f-4452c3cf6c52",
   "metadata": {},
   "outputs": [],
   "source": []
  }
 ],
 "metadata": {
  "kernelspec": {
   "display_name": "Python 3 (ipykernel)",
   "language": "python",
   "name": "python3"
  },
  "language_info": {
   "codemirror_mode": {
    "name": "ipython",
    "version": 3
   },
   "file_extension": ".py",
   "mimetype": "text/x-python",
   "name": "python",
   "nbconvert_exporter": "python",
   "pygments_lexer": "ipython3",
   "version": "3.10.6"
  }
 },
 "nbformat": 4,
 "nbformat_minor": 5
}

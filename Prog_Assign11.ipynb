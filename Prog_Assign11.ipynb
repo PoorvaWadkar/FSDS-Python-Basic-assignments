{
 "cells": [
  {
   "cell_type": "code",
   "execution_count": 1,
   "id": "7a5d4c48-05fd-4fc0-a60a-d4b62bb91075",
   "metadata": {},
   "outputs": [],
   "source": [
    "# 1.\tWrite a Python program to find words which are greater than given length k?\n",
    "# 2.\tWrite a Python program for removing i-th character from a string?\n",
    "# 3.\tWrite a Python program to split and join a string?\n",
    "# 4.\tWrite a Python to check if a given string is binary string or not?\n",
    "# 5.\tWrite a Python program to find uncommon words from two Strings?\n",
    "# 6.\tWrite a Python to find all duplicate characters in string?\n",
    "# 7.\tWrite a Python Program to check if a string contains any special character?"
   ]
  },
  {
   "cell_type": "code",
   "execution_count": 8,
   "id": "03992ba4-9a21-41de-8ac4-fc5b31516000",
   "metadata": {},
   "outputs": [],
   "source": [
    "# 1.\tWrite a Python program to find words which are greater than given length k?"
   ]
  },
  {
   "cell_type": "code",
   "execution_count": 9,
   "id": "8848f6d6-e96d-4a4c-a7e8-8cd98b3029b4",
   "metadata": {},
   "outputs": [
    {
     "name": "stdin",
     "output_type": "stream",
     "text": [
      "Enter a word: poorvawadkar\n"
     ]
    },
    {
     "name": "stdout",
     "output_type": "stream",
     "text": [
      "value of k : 7 length of entered word: 12\n",
      "Word is greater than length k\n"
     ]
    }
   ],
   "source": [
    "k=7\n",
    "str=input(\"Enter a word:\")\n",
    "n=len(str)\n",
    "print(\"value of k :\",k,\"length of entered word:\",n)\n",
    "if n>k:\n",
    "    print(\"Word is greater than length k\")\n",
    "else:\n",
    "    print(\"Word is smaller than or equal to length k\")"
   ]
  },
  {
   "cell_type": "code",
   "execution_count": 7,
   "id": "75d564eb-a623-4c22-8463-bedc9543ee92",
   "metadata": {},
   "outputs": [
    {
     "name": "stdin",
     "output_type": "stream",
     "text": [
      "Enter a word: poorva\n"
     ]
    },
    {
     "name": "stdout",
     "output_type": "stream",
     "text": [
      "value of k : 7 length of entered word: 6\n",
      "Word is smaller than or equal to length k\n"
     ]
    }
   ],
   "source": [
    "k=7\n",
    "str=input(\"Enter a word:\")\n",
    "n=len(str)\n",
    "print(\"value of k :\",k,\"length of entered word:\",n)\n",
    "if n>k:\n",
    "    print(\"Word is greater than length k\")\n",
    "else:\n",
    "    print(\"Word is smaller than or equal to length k\")"
   ]
  },
  {
   "cell_type": "code",
   "execution_count": 10,
   "id": "09389183-0281-47a0-a336-55b86716af14",
   "metadata": {},
   "outputs": [],
   "source": [
    "# 2.\tWrite a Python program for removing i-th character from a string?"
   ]
  },
  {
   "cell_type": "code",
   "execution_count": 20,
   "id": "8cb503f9-f46e-479b-84b5-e7d19a0f6010",
   "metadata": {},
   "outputs": [
    {
     "name": "stdout",
     "output_type": "stream",
     "text": [
      "poorvawadkar\n"
     ]
    }
   ],
   "source": [
    "str=\"poorvaawadkar\"\n",
    "x=5\n",
    "a=str[:x]\n",
    "b=str[x+1:]\n",
    "c=a+b\n",
    "print(c)"
   ]
  },
  {
   "cell_type": "code",
   "execution_count": 21,
   "id": "817f8712-14aa-4b2d-8551-15c1844e8abd",
   "metadata": {},
   "outputs": [],
   "source": [
    "# 3.\tWrite a Python program to split and join a string?"
   ]
  },
  {
   "cell_type": "code",
   "execution_count": 25,
   "id": "9dd57e86-5443-4824-a6b7-6a24c5acf04f",
   "metadata": {},
   "outputs": [
    {
     "name": "stdout",
     "output_type": "stream",
     "text": [
      "['Hi', 'Poorva', 'Wadkar']\n",
      "Hi_Poorva_Wadkar\n"
     ]
    }
   ],
   "source": [
    "str=\"Hi Poorva Wadkar\"\n",
    "split_str=str.split(\" \")\n",
    "print(split_str)\n",
    "join_str=\"_\".join(split_str)\n",
    "print(join_str)"
   ]
  },
  {
   "cell_type": "code",
   "execution_count": 26,
   "id": "cb57e3aa-e87c-41b0-955a-5a02cfb17fb6",
   "metadata": {},
   "outputs": [],
   "source": [
    "# 4.\tWrite a Python to check if a given string is binary string or not?"
   ]
  },
  {
   "cell_type": "code",
   "execution_count": 36,
   "id": "0123e6c8-3427-4d3d-a161-f77b3bd1b57c",
   "metadata": {},
   "outputs": [
    {
     "name": "stdout",
     "output_type": "stream",
     "text": [
      "Given string is binary\n"
     ]
    }
   ],
   "source": [
    "str=\"00001111001\"\n",
    "b=set(str)\n",
    "s={'0','1'}\n",
    "if b==s or b=={'0'} or s=={'1'}:\n",
    "    print(\"Given string is binary\")\n",
    "else:\n",
    "    print(\"Given string is not binary\")"
   ]
  },
  {
   "cell_type": "code",
   "execution_count": 37,
   "id": "79ad1692-bba8-407a-bf29-3fd5d634f336",
   "metadata": {},
   "outputs": [
    {
     "name": "stdout",
     "output_type": "stream",
     "text": [
      "Given string is not binary\n"
     ]
    }
   ],
   "source": [
    "str=\"000011poorva11001\"\n",
    "b=set(str)\n",
    "s={'0','1'}\n",
    "if b==s or b=={'0'} or s=={'1'}:\n",
    "    print(\"Given string is binary\")\n",
    "else:\n",
    "    print(\"Given string is not binary\")"
   ]
  },
  {
   "cell_type": "code",
   "execution_count": 38,
   "id": "9f781378-406d-4cf1-b27a-7c64c56fa376",
   "metadata": {},
   "outputs": [],
   "source": [
    "# 5.\tWrite a Python program to find uncommon words from two Strings?"
   ]
  },
  {
   "cell_type": "code",
   "execution_count": 52,
   "id": "e0845f78-a7a9-47d1-906b-84b0e88013b2",
   "metadata": {},
   "outputs": [
    {
     "name": "stdout",
     "output_type": "stream",
     "text": [
      "['Good', 'morning', 'hello']\n"
     ]
    }
   ],
   "source": [
    "str1=\"Good morning poorva wadkar\"\n",
    "str2=\"poorva wadkar hello\"\n",
    "split_str1=str1.split(\" \")\n",
    "split_str2=str2.split(\" \")\n",
    "# print(split_str1)\n",
    "# print(split_str2)\n",
    "l=[]\n",
    "for i in split_str1:\n",
    "    if i not in split_str2:\n",
    "        l.append(i)\n",
    "        \n",
    "for i in split_str2:\n",
    "    if i not in split_str1:\n",
    "        l.append(i)\n",
    "l=list(set(l))        \n",
    "print(l)"
   ]
  },
  {
   "cell_type": "code",
   "execution_count": 53,
   "id": "5bcba8e3-b1f9-42c4-8ca0-b86cdd135b0a",
   "metadata": {},
   "outputs": [],
   "source": [
    "# 6.\tWrite a Python to find all duplicate characters in string?"
   ]
  },
  {
   "cell_type": "code",
   "execution_count": 55,
   "id": "0657a7a8-1362-4161-b835-b48874f85054",
   "metadata": {},
   "outputs": [
    {
     "name": "stdout",
     "output_type": "stream",
     "text": [
      "['o', 'a']\n"
     ]
    }
   ],
   "source": [
    "str=\"poorvaaa\"\n",
    "l=[]\n",
    "for i in str:\n",
    "    if i not in l and str.count(i)>1:\n",
    "        l.append(i)\n",
    "print(l)"
   ]
  },
  {
   "cell_type": "code",
   "execution_count": 56,
   "id": "1f006eab-4bd1-4ac5-8071-9f9fe9700e30",
   "metadata": {},
   "outputs": [
    {
     "name": "stdout",
     "output_type": "stream",
     "text": [
      "[]\n"
     ]
    }
   ],
   "source": [
    "str=\"purva\"\n",
    "l=[]\n",
    "for i in str:\n",
    "    if i not in l and str.count(i)>1:\n",
    "        l.append(i)\n",
    "print(l)"
   ]
  },
  {
   "cell_type": "code",
   "execution_count": 57,
   "id": "8ffe3bb0-8b94-4fc7-8915-0fdc44dc9002",
   "metadata": {},
   "outputs": [],
   "source": [
    "# 7.\tWrite a Python Program to check if a string contains any special character?"
   ]
  },
  {
   "cell_type": "code",
   "execution_count": 65,
   "id": "102343e8-ac23-4be4-986c-f93932b6db5a",
   "metadata": {},
   "outputs": [
    {
     "name": "stdout",
     "output_type": "stream",
     "text": [
      "contains special character: @\n"
     ]
    }
   ],
   "source": [
    "str=\"poorva@wadkar\"\n",
    "l=['@','_','&','$','#']\n",
    "\n",
    "for i in str:\n",
    "    if i in l:\n",
    "        print(\"contains special character:\",i)"
   ]
  },
  {
   "cell_type": "code",
   "execution_count": null,
   "id": "27b8ca77-8727-46a9-be69-39009270932d",
   "metadata": {},
   "outputs": [],
   "source": []
  }
 ],
 "metadata": {
  "kernelspec": {
   "display_name": "Python 3 (ipykernel)",
   "language": "python",
   "name": "python3"
  },
  "language_info": {
   "codemirror_mode": {
    "name": "ipython",
    "version": 3
   },
   "file_extension": ".py",
   "mimetype": "text/x-python",
   "name": "python",
   "nbconvert_exporter": "python",
   "pygments_lexer": "ipython3",
   "version": "3.10.6"
  }
 },
 "nbformat": 4,
 "nbformat_minor": 5
}

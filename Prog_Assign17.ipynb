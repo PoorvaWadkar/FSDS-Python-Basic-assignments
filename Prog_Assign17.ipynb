{
 "cells": [
  {
   "cell_type": "markdown",
   "id": "908a7521-3beb-48c5-8487-4fb533ae3672",
   "metadata": {},
   "source": [
    "Question1. Create a function that takes three arguments a, b, c and returns the sum of the\n",
    "numbers that are evenly divided by c from the range a, b inclusive.\n",
    "Examples\n",
    "evenly_divisible(1, 10, 20) ➞ 0\n",
    "# No number between 1 and 10 can be evenly divided by 20.\n",
    "evenly_divisible(1, 10, 2) ➞ 30\n",
    "# 2 + 4 + 6 + 8 + 10 = 30\n",
    "evenly_divisible(1, 10, 3) ➞ 18\n",
    "# 3 + 6 + 9 = 18"
   ]
  },
  {
   "cell_type": "code",
   "execution_count": 1,
   "id": "c5911546-d562-4b61-96cb-9e5bc0311681",
   "metadata": {},
   "outputs": [
    {
     "name": "stdout",
     "output_type": "stream",
     "text": [
      "0\n",
      "30\n",
      "18\n"
     ]
    }
   ],
   "source": [
    "def evenly_divisible(a, b, c):\n",
    "    total_sum = 0\n",
    "    for num in range(a, b + 1):\n",
    "        if num % c == 0:\n",
    "            total_sum += num\n",
    "    return total_sum\n",
    "\n",
    "print(evenly_divisible(1, 10, 20)) \n",
    "print(evenly_divisible(1, 10, 2))  \n",
    "print(evenly_divisible(1, 10, 3))  "
   ]
  },
  {
   "cell_type": "markdown",
   "id": "c4ebedb8-e441-4f9b-a0a9-be2c1c2b4fa9",
   "metadata": {},
   "source": [
    "Question2. Create a function that returns True if a given inequality expression is correct and\n",
    "False otherwise.\n",
    "Examples\n",
    "correct_signs(\"3 < 7 < 11\") ➞ True\n",
    "correct_signs(\"13 > 44 > 33 > 1\") ➞ False\n",
    "correct_signs(\"1 < 2 < 6 < 9 > 3\") ➞ True"
   ]
  },
  {
   "cell_type": "code",
   "execution_count": 2,
   "id": "5e631e2a-7d3c-4d57-953f-5c0012286aef",
   "metadata": {},
   "outputs": [
    {
     "name": "stdout",
     "output_type": "stream",
     "text": [
      "True\n",
      "False\n",
      "True\n"
     ]
    }
   ],
   "source": [
    "def correct_signs(expr):\n",
    "    try:\n",
    "        return eval(expr)\n",
    "    except:\n",
    "        return False\n",
    "\n",
    "print(correct_signs(\"3 < 7 < 11\"))     \n",
    "print(correct_signs(\"13 > 44 > 33 > 1\")) \n",
    "print(correct_signs(\"1 < 2 < 6 < 9 > 3\")) "
   ]
  },
  {
   "cell_type": "markdown",
   "id": "0ea5def2-2b2f-4c7e-9eb4-ef0d58f98ed1",
   "metadata": {},
   "source": [
    "Question3. Create a function that replaces all the vowels in a string with a specified character.\n",
    "Examples\n",
    "replace_vowels(\"the aardvark\", \"#\") ➞ \"th# ##rdv#rk\"\n",
    "replace_vowels(\"minnie mouse\", \"?\") ➞ \"m?nn?? m??s?\"\n",
    "replace_vowels(\"shakespeare\", \"*\") ➞ \"sh*k*sp**r*\""
   ]
  },
  {
   "cell_type": "code",
   "execution_count": 3,
   "id": "f8af250f-4a5f-4ad1-a37c-cecf70e07e4c",
   "metadata": {},
   "outputs": [
    {
     "name": "stdout",
     "output_type": "stream",
     "text": [
      "th# ##rdv#rk\n",
      "m?nn?? m??s?\n",
      "sh*k*sp**r*\n"
     ]
    }
   ],
   "source": [
    "def replace_vowels(input_string, replace_char):\n",
    "    vowels = \"aeiouAEIOU\"\n",
    "    result = \"\"\n",
    "    for char in input_string:\n",
    "        if char in vowels:\n",
    "            result += replace_char\n",
    "        else:\n",
    "            result += char\n",
    "    return result\n",
    "\n",
    "print(replace_vowels(\"the aardvark\", \"#\"))   \n",
    "print(replace_vowels(\"minnie mouse\", \"?\"))   \n",
    "print(replace_vowels(\"shakespeare\", \"*\"))    "
   ]
  },
  {
   "cell_type": "markdown",
   "id": "50c9f0bd-0029-47d2-ade8-6c568ef3434a",
   "metadata": {},
   "source": [
    "Question4. Write a function that calculates the factorial of a number recursively.\n",
    "Examples\n",
    "factorial(5) ➞ 120\n",
    "factorial(3) ➞ 6\n",
    "factorial(1) ➞ 1\n",
    "factorial(0) ➞ 1"
   ]
  },
  {
   "cell_type": "code",
   "execution_count": 9,
   "id": "6b8637ee-da81-4882-a3e7-e17aaa7f6fb6",
   "metadata": {},
   "outputs": [
    {
     "name": "stdout",
     "output_type": "stream",
     "text": [
      "120\n",
      "6\n",
      "1\n",
      "1\n"
     ]
    }
   ],
   "source": [
    "def factorial(n):\n",
    "    if n == 0 or n == 1:\n",
    "        return 1\n",
    "    else:\n",
    "        return n * factorial(n - 1)\n",
    "        \n",
    "print(factorial(5))  \n",
    "print(factorial(3))  \n",
    "print(factorial(1))  \n",
    "print(factorial(0))  "
   ]
  },
  {
   "cell_type": "markdown",
   "id": "f4174856-378a-4c36-8eb8-320f05e0f42f",
   "metadata": {},
   "source": [
    "Question 5\n",
    "Hamming distance is the number of characters that differ between two strings.\n",
    "To illustrate:\n",
    "String1: \"abcbba\"\n",
    "String2: \"abcbda\"\n",
    "Hamming Distance: 1 - \"b\" vs. \"d\" is the only difference.\n",
    "Create a function that computes the hamming distance between two strings.\n",
    "Examples\n",
    "hamming_distance(\"abcde\", \"bcdef\") ➞ 5\n",
    "hamming_distance(\"abcde\", \"abcde\") ➞ 0\n",
    "hamming_distance(\"strong\", \"strung\") ➞ 1"
   ]
  },
  {
   "cell_type": "code",
   "execution_count": 10,
   "id": "0fd36d7b-53a5-45ca-854b-6d73e221fcf6",
   "metadata": {},
   "outputs": [
    {
     "name": "stdout",
     "output_type": "stream",
     "text": [
      "5\n",
      "0\n",
      "1\n"
     ]
    }
   ],
   "source": [
    "def hamming_distance(str1, str2):\n",
    "    if len(str1) != len(str2):\n",
    "        raise ValueError(\"Strings must have the same length\")\n",
    "\n",
    "    distance = 0\n",
    "    for char1, char2 in zip(str1, str2):\n",
    "        if char1 != char2:\n",
    "            distance += 1\n",
    "\n",
    "    return distance\n",
    "\n",
    "print(hamming_distance(\"abcde\", \"bcdef\"))  \n",
    "print(hamming_distance(\"abcde\", \"abcde\"))  \n",
    "print(hamming_distance(\"strong\", \"strung\")) "
   ]
  },
  {
   "cell_type": "code",
   "execution_count": null,
   "id": "834a0602-4284-4f59-8fc7-dbb1cd46e987",
   "metadata": {},
   "outputs": [],
   "source": []
  }
 ],
 "metadata": {
  "kernelspec": {
   "display_name": "Python 3 (ipykernel)",
   "language": "python",
   "name": "python3"
  },
  "language_info": {
   "codemirror_mode": {
    "name": "ipython",
    "version": 3
   },
   "file_extension": ".py",
   "mimetype": "text/x-python",
   "name": "python",
   "nbconvert_exporter": "python",
   "pygments_lexer": "ipython3",
   "version": "3.10.6"
  }
 },
 "nbformat": 4,
 "nbformat_minor": 5
}

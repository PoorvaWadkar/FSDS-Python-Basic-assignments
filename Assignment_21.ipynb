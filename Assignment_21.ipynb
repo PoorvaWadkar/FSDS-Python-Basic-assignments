{
 "cells": [
  {
   "cell_type": "markdown",
   "id": "c79d2040-e785-4819-8941-61336c165302",
   "metadata": {},
   "source": [
    "1. Add the current date to the text file today.txt as a string.\n",
    "2. Read the text file today.txt into the string today_string\n",
    "3. Parse the date from today_string.\n",
    "4. List the files in your current directory\n",
    "5. Create a list of all of the files in your parent directory (minimum five files should be available).\n",
    "6. Use multiprocessing to create three separate processes. Make each one wait a random number of\n",
    "seconds between one and five, print the current time, and then exit.\n",
    "7. Create a date object of your day of birth.\n",
    "8. What day of the week was your day of birth?\n",
    "9. When will you be (or when were you) 10,000 days old?"
   ]
  },
  {
   "cell_type": "code",
   "execution_count": 2,
   "id": "d892bae2-645c-4eb7-8a15-c9e93c158b04",
   "metadata": {},
   "outputs": [],
   "source": [
    "import datetime\n",
    "import os\n",
    "import random\n",
    "import multiprocessing\n",
    "import time\n",
    "\n",
    "# Add the current date to the text file today.txt as a string.\n",
    "current_date = datetime.datetime.now().strftime('%Y-%m-%d %H:%M:%S')\n",
    "with open('today.txt', 'w') as file:\n",
    "    file.write(current_date)"
   ]
  },
  {
   "cell_type": "code",
   "execution_count": 3,
   "id": "7f3aa74e-668d-44a7-bfda-bbaddd74b2de",
   "metadata": {},
   "outputs": [],
   "source": [
    "# Read the text file today.txt into the string today_string.\n",
    "with open('today.txt', 'r') as file:\n",
    "    today_string = file.read()"
   ]
  },
  {
   "cell_type": "code",
   "execution_count": 4,
   "id": "6482e005-54b5-4c29-a46f-8454637b92ac",
   "metadata": {},
   "outputs": [
    {
     "data": {
      "text/plain": [
       "'2023-08-08 12:38:49'"
      ]
     },
     "execution_count": 4,
     "metadata": {},
     "output_type": "execute_result"
    }
   ],
   "source": [
    "today_string"
   ]
  },
  {
   "cell_type": "code",
   "execution_count": 5,
   "id": "9b79bfe6-926f-4f5e-bb73-0ac318cea1f6",
   "metadata": {},
   "outputs": [],
   "source": [
    "# Parse the date from today_string.\n",
    "parsed_date = datetime.datetime.strptime(today_string, '%Y-%m-%d %H:%M:%S')"
   ]
  },
  {
   "cell_type": "code",
   "execution_count": 6,
   "id": "4b46e31b-d7ab-4d51-8b66-702106b1b4eb",
   "metadata": {},
   "outputs": [
    {
     "data": {
      "text/plain": [
       "datetime.datetime(2023, 8, 8, 12, 38, 49)"
      ]
     },
     "execution_count": 6,
     "metadata": {},
     "output_type": "execute_result"
    }
   ],
   "source": [
    "parsed_date"
   ]
  },
  {
   "cell_type": "code",
   "execution_count": 7,
   "id": "6a471eb5-46de-4be1-8747-71373f0efce9",
   "metadata": {},
   "outputs": [],
   "source": [
    "# List the files in your current directory.\n",
    "current_directory_files = os.listdir()"
   ]
  },
  {
   "cell_type": "code",
   "execution_count": 8,
   "id": "bbb58c95-bc1e-43ed-abf4-b9fbce4f21bf",
   "metadata": {},
   "outputs": [
    {
     "data": {
      "text/plain": [
       "['README.md',\n",
       " 'Assignment_18.ipynb',\n",
       " 'test.txt',\n",
       " 'sample-code.ipynb',\n",
       " 'Assignment_21.ipynb',\n",
       " '.git',\n",
       " 'Assignment_20.ipynb',\n",
       " 'Assignment_19.ipynb',\n",
       " 'books.db',\n",
       " 'demo.txt',\n",
       " 'Assignment_17.ipynb',\n",
       " '.ipynb_checkpoints',\n",
       " 'today.txt',\n",
       " 'demo.csv',\n",
       " 'demo1.csv',\n",
       " 'books.csv']"
      ]
     },
     "execution_count": 8,
     "metadata": {},
     "output_type": "execute_result"
    }
   ],
   "source": [
    "current_directory_files"
   ]
  },
  {
   "cell_type": "code",
   "execution_count": 9,
   "id": "c423bd01-c7ac-48c8-8fdc-f624c9bf8531",
   "metadata": {},
   "outputs": [],
   "source": [
    "# Create a list of all files in your parent directory.\n",
    "parent_directory = os.path.abspath('..')\n",
    "parent_directory_files = os.listdir(parent_directory)"
   ]
  },
  {
   "cell_type": "code",
   "execution_count": 10,
   "id": "ee035913-4b63-44ea-beca-14dbe232b468",
   "metadata": {},
   "outputs": [
    {
     "data": {
      "text/plain": [
       "'/home/jovyan'"
      ]
     },
     "execution_count": 10,
     "metadata": {},
     "output_type": "execute_result"
    }
   ],
   "source": [
    "parent_directory"
   ]
  },
  {
   "cell_type": "code",
   "execution_count": 11,
   "id": "fed8ca30-b948-4194-bfe8-23df5bdc6a54",
   "metadata": {},
   "outputs": [
    {
     "data": {
      "text/plain": [
       "['.profile',\n",
       " '.bash_logout',\n",
       " '.bashrc',\n",
       " '.ipython',\n",
       " '.cache',\n",
       " '.jupyter',\n",
       " '.local',\n",
       " '.conda',\n",
       " '.config',\n",
       " '.npm',\n",
       " '.wget-hsts',\n",
       " 'work']"
      ]
     },
     "execution_count": 11,
     "metadata": {},
     "output_type": "execute_result"
    }
   ],
   "source": [
    "parent_directory_files"
   ]
  },
  {
   "cell_type": "code",
   "execution_count": 23,
   "id": "05df9084-7fc7-42e5-955c-8b98684d8ed0",
   "metadata": {},
   "outputs": [
    {
     "name": "stdout",
     "output_type": "stream",
     "text": [
      "Process started at 2023-08-08 12:43:03, waiting for 3 seconds.Process started at 2023-08-08 12:43:03, waiting for 2 seconds.Process started at 2023-08-08 12:43:03, waiting for 3 seconds.\n",
      "\n",
      "\n",
      "Process ended at 2023-08-08 12:43:05.\n",
      "Process ended at 2023-08-08 12:43:06.\n",
      "Process ended at 2023-08-08 12:43:06.\n"
     ]
    }
   ],
   "source": [
    "# Use multiprocessing to create three separate processes.\n",
    "def process_function():\n",
    "    wait_time = random.randint(1, 5)\n",
    "    current_time = datetime.datetime.now().strftime('%Y-%m-%d %H:%M:%S')\n",
    "    print(f\"Process started at {current_time}, waiting for {wait_time} seconds.\")\n",
    "    time.sleep(wait_time)\n",
    "    current_time = datetime.datetime.now().strftime('%Y-%m-%d %H:%M:%S')\n",
    "    print(f\"Process ended at {current_time}.\")\n",
    "\n",
    "processes = [multiprocessing.Process(target=process_function) for _ in range(3)]\n",
    "for process in processes:\n",
    "    process.start()\n",
    "for process in processes:\n",
    "    process.join()"
   ]
  },
  {
   "cell_type": "code",
   "execution_count": 22,
   "id": "fa2d3a65-3e89-43bf-8fc0-6f5d15d239ad",
   "metadata": {},
   "outputs": [],
   "source": [
    "# Create a date object of your day of birth.\n",
    "birthday = datetime.date(2000, 1, 1)  "
   ]
  },
  {
   "cell_type": "code",
   "execution_count": 14,
   "id": "339867cf-295f-49a3-9b69-6ad57a713734",
   "metadata": {},
   "outputs": [
    {
     "data": {
      "text/plain": [
       "datetime.date(2000, 1, 1)"
      ]
     },
     "execution_count": 14,
     "metadata": {},
     "output_type": "execute_result"
    }
   ],
   "source": [
    "birthday"
   ]
  },
  {
   "cell_type": "code",
   "execution_count": 15,
   "id": "b53941fa-15af-4e47-bc65-861c02aa53df",
   "metadata": {},
   "outputs": [],
   "source": [
    "# Find out what day of the week your day of birth falls on.\n",
    "day_of_week = birthday.strftime('%A')"
   ]
  },
  {
   "cell_type": "code",
   "execution_count": 16,
   "id": "f9c62288-b2dd-4a1b-a7a3-c6530e7f8bac",
   "metadata": {},
   "outputs": [
    {
     "data": {
      "text/plain": [
       "'Saturday'"
      ]
     },
     "execution_count": 16,
     "metadata": {},
     "output_type": "execute_result"
    }
   ],
   "source": [
    "day_of_week"
   ]
  },
  {
   "cell_type": "code",
   "execution_count": 17,
   "id": "17629175-672c-491c-a65b-4f4e878072e3",
   "metadata": {},
   "outputs": [
    {
     "name": "stdout",
     "output_type": "stream",
     "text": [
      "10,000 days old on: 2027-05-19\n"
     ]
    }
   ],
   "source": [
    "# Calculate when you will be (or were) 10,000 days old.\n",
    "days_to_add = datetime.timedelta(days=10000)\n",
    "future_date = birthday + days_to_add\n",
    "\n",
    "print(\"10,000 days old on:\", future_date)"
   ]
  },
  {
   "cell_type": "code",
   "execution_count": null,
   "id": "ad8ea3e6-98b6-49d5-bce1-44927eaccd61",
   "metadata": {},
   "outputs": [],
   "source": []
  }
 ],
 "metadata": {
  "kernelspec": {
   "display_name": "Python 3 (ipykernel)",
   "language": "python",
   "name": "python3"
  },
  "language_info": {
   "codemirror_mode": {
    "name": "ipython",
    "version": 3
   },
   "file_extension": ".py",
   "mimetype": "text/x-python",
   "name": "python",
   "nbconvert_exporter": "python",
   "pygments_lexer": "ipython3",
   "version": "3.10.6"
  }
 },
 "nbformat": 4,
 "nbformat_minor": 5
}

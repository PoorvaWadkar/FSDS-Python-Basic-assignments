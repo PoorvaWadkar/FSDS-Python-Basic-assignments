{
 "cells": [
  {
   "cell_type": "code",
   "execution_count": null,
   "id": "82abeb7b-38b3-4984-8487-9ebcb59c36ed",
   "metadata": {},
   "outputs": [],
   "source": [
    "# 1. What is the result of the code, and explain?"
   ]
  },
  {
   "cell_type": "code",
   "execution_count": 2,
   "id": "cdaa3017-51ef-4c6d-92c6-33cff4188f54",
   "metadata": {},
   "outputs": [
    {
     "name": "stdout",
     "output_type": "stream",
     "text": [
      "iNeuron\n"
     ]
    }
   ],
   "source": [
    "#The string \"iNeuron\" is assigned to the variable X.\n",
    "#The function func() is defined which prints the value of the variable X after the function is called.\n",
    "\n",
    "X = \"iNeuron\"    # global variable\n",
    "def func():\n",
    "    print(X)\n",
    "func()"
   ]
  },
  {
   "cell_type": "code",
   "execution_count": null,
   "id": "a7d08c30-3877-46d2-8c54-66d9dbbc9e24",
   "metadata": {},
   "outputs": [],
   "source": [
    "#2. What is the result of the code, and explain?"
   ]
  },
  {
   "cell_type": "code",
   "execution_count": 28,
   "id": "2b756907-bd07-4936-9097-90f9c5319b3e",
   "metadata": {},
   "outputs": [
    {
     "name": "stdout",
     "output_type": "stream",
     "text": [
      "iNeuron\n"
     ]
    }
   ],
   "source": [
    "#The string \"iNeuron\" is assigned to the global variable X.\n",
    "#The function func() is defined in which string \"NI!\" is assigned to the local variable X and func() is called.\n",
    "#print command prints the value of global variable X.\n",
    "# global variable X and local variable X are different.\n",
    "\n",
    "X = \"iNeuron\"   # global variable\n",
    "def func():\n",
    "    X = \"NI!\"   #local variable\n",
    "func()\n",
    "print(X)"
   ]
  },
  {
   "cell_type": "code",
   "execution_count": null,
   "id": "5f1770fd-fa80-45b5-8314-248c7c60742e",
   "metadata": {},
   "outputs": [],
   "source": [
    "#3. What does this code print, and why?"
   ]
  },
  {
   "cell_type": "code",
   "execution_count": 13,
   "id": "c0b4f996-2ee4-46d5-9b69-75345e3771af",
   "metadata": {},
   "outputs": [
    {
     "name": "stdout",
     "output_type": "stream",
     "text": [
      "NI\n",
      "Neuron\n"
     ]
    }
   ],
   "source": [
    "#The string \"iNeuron\" is assigned to the global variable X.\n",
    "#The function func() is defined in which string \"NI!\" is assigned to the local variable X and it prints the\n",
    "#value of local variable after function call.\n",
    "#print command prints the value of global variable X.\n",
    "# global variable X and local variable X are different.\n",
    "\n",
    "X = \"Neuron\"   # global variable\n",
    "def func():\n",
    "    X = \"NI\"   #local variable\n",
    "    print(X)\n",
    "func()\n",
    "print(X)"
   ]
  },
  {
   "cell_type": "code",
   "execution_count": 14,
   "id": "4597fbc5-5d41-4c5c-878f-718d9e7230a5",
   "metadata": {},
   "outputs": [],
   "source": [
    "#4. What output does this code produce? Why?"
   ]
  },
  {
   "cell_type": "code",
   "execution_count": 30,
   "id": "1315a571-d4ae-4a37-b75b-6c1f1c30d539",
   "metadata": {},
   "outputs": [
    {
     "name": "stdout",
     "output_type": "stream",
     "text": [
      "NI\n"
     ]
    }
   ],
   "source": [
    "#The string \"iNeuron\" is assigned to the global variable X.\n",
    "#The function func() is defined in which string \"NI!\" is assigned to the variable X.\n",
    "#global keyword is used to indicate that the function should modify the global variable X. \n",
    "#print command prints the value of global variable X as NI after function calling.\n",
    "\n",
    "X = \"iNeuron\"\n",
    "def func():\n",
    "    global X\n",
    "    X = \"NI\"\n",
    "func()\n",
    "print(X)"
   ]
  },
  {
   "cell_type": "code",
   "execution_count": null,
   "id": "31f8b28d-bdbd-4253-a9e8-3ee4915f2728",
   "metadata": {},
   "outputs": [],
   "source": [
    "#5. What about this code—what’s the output, and why?"
   ]
  },
  {
   "cell_type": "code",
   "execution_count": 36,
   "id": "5542c741-1d9d-45c0-9cb6-fa352738a937",
   "metadata": {},
   "outputs": [
    {
     "name": "stdout",
     "output_type": "stream",
     "text": [
      "NI\n"
     ]
    },
    {
     "data": {
      "text/plain": [
       "'iNeuron'"
      ]
     },
     "execution_count": 36,
     "metadata": {},
     "output_type": "execute_result"
    }
   ],
   "source": [
    "#The string \"iNeuron\" is assigned to the global variable X.\n",
    "#The function func() is defined in which string \"NI!\" is assigned to the variable X.\n",
    "# Inside the func() function, the nested() function is defined which prints the value of the \n",
    "#local variable X within the scope of the func() function.\n",
    "#print command prints the value of global variable X  after function calling.\n",
    "\n",
    "X = \"iNeuron\"\n",
    "def func():\n",
    "    X = \"NI\"\n",
    "    def nested():\n",
    "        print(X)\n",
    "    nested()\n",
    "func()\n",
    "X"
   ]
  },
  {
   "cell_type": "code",
   "execution_count": null,
   "id": "ebe15390-9805-4692-b1d0-c8d3bab44e8d",
   "metadata": {},
   "outputs": [],
   "source": [
    "#6. How about this code: what is its output in Python 3, and explain?"
   ]
  },
  {
   "cell_type": "code",
   "execution_count": 27,
   "id": "5cab0024-f285-4956-98a4-65b0266778e7",
   "metadata": {},
   "outputs": [
    {
     "name": "stdout",
     "output_type": "stream",
     "text": [
      "Spam\n"
     ]
    }
   ],
   "source": [
    "# The function func() is defined in which string \"NI\" is assigned to the local variable X.\n",
    "# Inside the func() function, the nested() function is defined. \n",
    "# The nested() function uses the nonlocal keyword to indicate that it wants to modify the nearest \n",
    "# enclosing scope's variable X.\n",
    "# The nested() function assigns the value 'Spam' to the nonlocal variable X.\n",
    "# The nested() function is called from within the func() function, modifying the nonlocal variable X.\n",
    "# After the nested() function call, the func() function prints the value of the nonlocal variable X.\n",
    "\n",
    "def func():\n",
    "    X = \"NI\"\n",
    "    def nested():\n",
    "        nonlocal X\n",
    "        X = \"Spam\"\n",
    "    nested()\n",
    "    print(X)\n",
    "func()"
   ]
  },
  {
   "cell_type": "code",
   "execution_count": null,
   "id": "37bef939-d5a6-44bd-9dd1-c623f41c67ef",
   "metadata": {},
   "outputs": [],
   "source": []
  }
 ],
 "metadata": {
  "kernelspec": {
   "display_name": "Python 3 (ipykernel)",
   "language": "python",
   "name": "python3"
  },
  "language_info": {
   "codemirror_mode": {
    "name": "ipython",
    "version": 3
   },
   "file_extension": ".py",
   "mimetype": "text/x-python",
   "name": "python",
   "nbconvert_exporter": "python",
   "pygments_lexer": "ipython3",
   "version": "3.10.6"
  }
 },
 "nbformat": 4,
 "nbformat_minor": 5
}

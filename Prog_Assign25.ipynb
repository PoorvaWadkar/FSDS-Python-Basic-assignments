{
 "cells": [
  {
   "cell_type": "markdown",
   "id": "a57b24dc-7b0f-488d-ad7f-4dbc297989e0",
   "metadata": {},
   "source": [
    "Question1\n",
    "Create a function that takes three integer arguments (a, b, c) and returns the amount of\n",
    "integers which are of equal value.\n",
    "Examples\n",
    "equal(3, 4, 3) ➞ 2\n",
    "equal(1, 1, 1) ➞ 3\n",
    "equal(3, 4, 1) ➞ 0\n",
    "Notes\n",
    "Your function must return 0, 2 or 3."
   ]
  },
  {
   "cell_type": "code",
   "execution_count": 1,
   "id": "990b1585-798e-4bad-8bd2-c4764d9d0d4f",
   "metadata": {},
   "outputs": [
    {
     "name": "stdout",
     "output_type": "stream",
     "text": [
      "2\n",
      "3\n",
      "0\n"
     ]
    }
   ],
   "source": [
    "def equal(a, b, c):\n",
    "    if a == b == c:\n",
    "        return 3\n",
    "    elif a == b or a == c or b == c:\n",
    "        return 2\n",
    "    else:\n",
    "        return 0\n",
    "\n",
    "print(equal(3, 4, 3))  \n",
    "print(equal(1, 1, 1))  \n",
    "print(equal(3, 4, 1))  "
   ]
  },
  {
   "cell_type": "markdown",
   "id": "e150a40d-2888-40f6-a9ea-d9c190bac890",
   "metadata": {},
   "source": [
    "Question2\n",
    "Write a function that converts a dictionary into a list of keys-values tuples.\n",
    "Examples\n",
    "dict_to_list({\n",
    "D: 1,\n",
    "B: 2,\n",
    "C: 3\n",
    "}) ➞ [('B', 2), ('C', 3), ('D', 1)]\n",
    "dict_to_list({\n",
    "likes: 2,\n",
    "dislikes: 3,\n",
    "followers: 10\n",
    "}) ➞ [('dislikes', 3), ('followers', 10), ('likes', 2)]\n",
    "Notes\n",
    "Return the elements in the list in alphabetical order."
   ]
  },
  {
   "cell_type": "code",
   "execution_count": 6,
   "id": "4ec99d74-9da5-4489-afdc-5705913af709",
   "metadata": {},
   "outputs": [
    {
     "name": "stdout",
     "output_type": "stream",
     "text": [
      "[('D', 1), ('B', 2), ('C', 3)]\n",
      "[('B', 2), ('C', 3), ('D', 1)]\n",
      "[('likes', 2), ('dislikes', 3), ('followers', 10)]\n",
      "[('dislikes', 3), ('followers', 10), ('likes', 2)]\n"
     ]
    }
   ],
   "source": [
    "def dict_to_list(dictionary):\n",
    "    key_value_pairs = [(key, dictionary[key]) for key in dictionary]\n",
    "    print(key_value_pairs)\n",
    "    sorted_list = sorted(key_value_pairs, key=lambda x: x[0])\n",
    "    return sorted_list\n",
    "\n",
    "print(dict_to_list({\"D\": 1, \"B\": 2, \"C\": 3}))  \n",
    "print(dict_to_list({\"likes\": 2, \"dislikes\": 3, \"followers\": 10}))  "
   ]
  },
  {
   "cell_type": "markdown",
   "id": "0efa82dd-e4b7-4bec-b39f-1ed954b6f5e2",
   "metadata": {},
   "source": [
    "Question3\n",
    "Write a function that creates a dictionary with each (key, value) pair being the (lower case,\n",
    "upper case) versions of a letter, respectively.\n",
    "Examples\n",
    "mapping([\"p\", \"s\"]) ➞ {'p': 'P', 's': 'S'}\n",
    "\n",
    "mapping([\"a\", \"b\", \"c\"]) ➞ {'a': 'A', 'b': 'B', 'c': 'C'}\n",
    "mapping([\"a\", \"v\", \"y\", \"z\"]) ➞ {'a': 'A', 'v': 'V', 'y': 'Y', 'z': 'Z'}\n",
    "Notes\n",
    "All of the letters in the input list will always be lowercase."
   ]
  },
  {
   "cell_type": "code",
   "execution_count": 7,
   "id": "4445d476-bf70-4bea-9beb-a24c5d20d36b",
   "metadata": {},
   "outputs": [
    {
     "name": "stdout",
     "output_type": "stream",
     "text": [
      "{'p': 'P', 's': 'S'}\n",
      "{'a': 'A', 'b': 'B', 'c': 'C'}\n",
      "{'a': 'A', 'v': 'V', 'y': 'Y', 'z': 'Z'}\n"
     ]
    }
   ],
   "source": [
    "def mapping(letters):\n",
    "    result_dict = {}\n",
    "    for letter in letters:\n",
    "        result_dict[letter] = letter.upper()\n",
    "    return result_dict\n",
    "\n",
    "print(mapping([\"p\", \"s\"]))  \n",
    "print(mapping([\"a\", \"b\", \"c\"]))  \n",
    "print(mapping([\"a\", \"v\", \"y\", \"z\"]))  "
   ]
  },
  {
   "cell_type": "markdown",
   "id": "c372dd71-e8d8-41a8-a3ff-61185d716b2f",
   "metadata": {},
   "source": [
    "Question4\n",
    "Write a function, that replaces all vowels in a string with a specified vowel.\n",
    "Examples\n",
    "vow_replace(\"apples and bananas\", \"u\") ➞ upplus und bununus\n",
    "vow_replace(\"cheese casserole\", \"o\") ➞ chooso cossorolo\n",
    "vow_replace(\"stuffed jalapeno poppers\", \"e\") ➞ steffed jelepene peppers\n",
    "Notes\n",
    "All words will be lowercase. Y is not considered a vowel."
   ]
  },
  {
   "cell_type": "code",
   "execution_count": 9,
   "id": "9e45b347-7f2e-4a60-92bf-b596341c4ad3",
   "metadata": {},
   "outputs": [
    {
     "name": "stdout",
     "output_type": "stream",
     "text": [
      "upplus und bununus\n",
      "chooso cossorolo\n",
      "steffed jelepene peppers\n"
     ]
    }
   ],
   "source": [
    "def vow_replace(input_string, vowel):\n",
    "    vowels = 'aeiou'\n",
    "    result_string = ''\n",
    "    for char in input_string:\n",
    "        if char.lower() in vowels:\n",
    "            result_string += vowel\n",
    "        else:\n",
    "            result_string += char\n",
    "    return result_string\n",
    "\n",
    "print(vow_replace(\"apples and bananas\", \"u\"))  \n",
    "print(vow_replace(\"cheese casserole\", \"o\"))   \n",
    "print(vow_replace(\"stuffed jalapeno poppers\", \"e\")) "
   ]
  },
  {
   "cell_type": "markdown",
   "id": "ac040bfc-4a2e-4738-a901-cc3c6655f301",
   "metadata": {},
   "source": [
    "Question5\n",
    "Create a function that takes a string as input and capitalizes a letter if its ASCII code is even\n",
    "and returns its lower case version if its ASCII code is odd.\n",
    "Examples\n",
    "ascii_capitalize(\"to be or not to be!\") ➞ To Be oR NoT To Be!\n",
    "ascii_capitalize(\"THE LITTLE MERMAID\") ➞ THe LiTTLe meRmaiD\n",
    "ascii_capitalize(\"Oh what a beautiful morning.\") ➞ oH wHaT a BeauTiFuL moRNiNg."
   ]
  },
  {
   "cell_type": "code",
   "execution_count": 12,
   "id": "f62bb445-26ab-465f-b189-f606b4f1a6dd",
   "metadata": {},
   "outputs": [
    {
     "name": "stdout",
     "output_type": "stream",
     "text": [
      "To Be oR NoT To Be!\n",
      "THe LiTTLe meRmaiD\n",
      "oH wHaT a BeauTiFuL moRNiNg.\n"
     ]
    }
   ],
   "source": [
    "def ascii_capitalize(input_string):\n",
    "    result_string = ''\n",
    "    for char in input_string:\n",
    "        ascii_code = ord(char)\n",
    "        if ascii_code % 2 == 0:  \n",
    "            result_string += char.upper()\n",
    "        else:  \n",
    "            result_string += char.lower()\n",
    "    return result_string\n",
    "\n",
    "print(ascii_capitalize(\"to be or not to be!\"))  \n",
    "print(ascii_capitalize(\"THE LITTLE MERMAID\"))  \n",
    "print(ascii_capitalize(\"Oh what a beautiful morning.\"))  "
   ]
  },
  {
   "cell_type": "code",
   "execution_count": null,
   "id": "d8202bfc-ef4f-4a15-b87f-a9d64a9205b7",
   "metadata": {},
   "outputs": [],
   "source": []
  }
 ],
 "metadata": {
  "kernelspec": {
   "display_name": "Python 3 (ipykernel)",
   "language": "python",
   "name": "python3"
  },
  "language_info": {
   "codemirror_mode": {
    "name": "ipython",
    "version": 3
   },
   "file_extension": ".py",
   "mimetype": "text/x-python",
   "name": "python",
   "nbconvert_exporter": "python",
   "pygments_lexer": "ipython3",
   "version": "3.10.6"
  }
 },
 "nbformat": 4,
 "nbformat_minor": 5
}
